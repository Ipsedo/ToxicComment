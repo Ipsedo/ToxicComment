{
 "cells": [
  {
   "cell_type": "code",
   "execution_count": 1,
   "metadata": {},
   "outputs": [],
   "source": [
    "import pandas as pd\n",
    "import numpy as np\n",
    "import re"
   ]
  },
  {
   "cell_type": "code",
   "execution_count": 2,
   "metadata": {},
   "outputs": [
    {
     "name": "stderr",
     "output_type": "stream",
     "text": [
      "/usr/lib/python3.7/site-packages/IPython/core/interactiveshell.py:3020: DtypeWarning: Columns (2,3,4,5,6,7) have mixed types. Specify dtype option on import or set low_memory=False.\n  interactivity=interactivity, compiler=compiler, result=result)\n"
     ]
    }
   ],
   "source": [
    "df=pd.read_csv('train.csv', sep=',',header=None)"
   ]
  },
  {
   "cell_type": "code",
   "execution_count": 3,
   "metadata": {},
   "outputs": [
    {
     "name": "stdout",
     "output_type": "stream",
     "text": [
      "                       0                                                  1  \\\n0                     id                                       comment_text   \n1       0000997932d777bf  Explanation\\nWhy the edits made under my usern...   \n2       000103f0d9cfb60f  D'aww! He matches this background colour I'm s...   \n3       000113f07ec002fd  Hey man, I'm really not trying to edit war. It...   \n4       0001b41b1c6bb37e  \"\\nMore\\nI can't make any real suggestions on ...   \n5       0001d958c54c6e35  You, sir, are my hero. Any chance you remember...   \n6       00025465d4725e87  \"\\n\\nCongratulations from me as well, use the ...   \n7       0002bcb3da6cb337       COCKSUCKER BEFORE YOU PISS AROUND ON MY WORK   \n8       00031b1e95af7921  Your vandalism to the Matt Shirvington article...   \n9       00037261f536c51d  Sorry if the word 'nonsense' was offensive to ...   \n10      00040093b2687caa  alignment on this subject and which are contra...   \n11      0005300084f90edc  \"\\nFair use rationale for Image:Wonju.jpg\\n\\nT...   \n12      00054a5e18b50dd4  bbq \\n\\nbe a man and lets discuss it-maybe ove...   \n13      0005c987bdfc9d4b  Hey... what is it..\\n@ | talk .\\nWhat is it......   \n14      0006f16e4e9f292e  Before you start throwing accusations and warn...   \n15      00070ef96486d6f9  Oh, and the girl above started her arguments w...   \n16      00078f8ce7eb276d  \"\\n\\nJuelz Santanas Age\\n\\nIn 2002, Juelz Sant...   \n17      0007e25b2121310b  Bye! \\n\\nDon't look, come or think of comming ...   \n18      000897889268bc93   REDIRECT Talk:Voydan Pop Georgiev- Chernodrinski   \n19      0009801bd85e5806  The Mitsurugi point made no sense - why not ar...   \n20      0009eaea3325de8c  Don't mean to bother you \\n\\nI see that you're...   \n21      000b08c464718505  \"\\n\\n Regarding your recent edits \\n\\nOnce aga...   \n22      000bfd0867774845  \"\\nGood to know. About me, yeah, I'm studying ...   \n23      000c0dfd995809fa  \"\\n\\n Snowflakes are NOT always symmetrical! \\...   \n24      000c6a3f0cd3ba8e  \"\\n\\n The Signpost: 24 September 2012 \\n\\n Rea...   \n25      000cfee90f50d471  \"\\n\\nRe-considering 1st paragraph edit?\\nI don...   \n26      000eefc67a2c930f  Radial symmetry \\n\\nSeveral now extinct lineag...   \n27      000f35deef84dc4a  There's no need to apologize. A Wikipedia arti...   \n28      000ffab30195c5e1  Yes, because the mother of the child in the ca...   \n29      0010307a3a50a353  \"\\nOk. But it will take a bit of work but I ca...   \n...                  ...                                                ...   \n159542  ffa33d3122b599d6  Your absurd edits \\n\\nYour absurd edits on gre...   \n159543  ffa95244f261527f  maybe he's got better things to do than spend ...   \n159544  ffad104337fe9891  scrap that, it does meet criteria and its gone...   \n159545  ffaed63c487a2b42                                You could do worse.   \n159546  ffb268f37788a011  , 7 March 2011 (UTC)\\nAre you also User:Bmatts...   \n159547  ffb47123b2d82762  \"\\n\\nHey listen don't you ever!!!! Delete my e...   \n159548  ffb7b4c3d3ae5842                     Thank you very, very much.  ·✆   \n159549  ffb93b0a0a1e78f9                        Talkback: 15 September 2012   \n159550  ffb998f9749bd83e                         2005 (UTC)\\n 06:35, 31 Mar   \n159551  ffba5332d6b8fd14  i agree/ on another note lil wayne is a talent...   \n159552  ffbc2db4225258dd  While about half the references are from BYU-I...   \n159553  ffbcd64a71775e04  Prague Spring \\n\\nI think that Prague Spring d...   \n159554  ffbd331a3aa269b9  I see this as having been merged; undoing one ...   \n159555  ffbdbb0483ed0841  and i'm going to keep posting the stuff u dele...   \n159556  ffc2f409658571f1  \"\\n\\nHow come when you download that MP3 it's ...   \n159557  ffc671f2acdd80e1  I'll be on IRC, too, if you have a more specif...   \n159558  ffc7bbb177c3c966  It is my opinion that that happens to be off-t...   \n159559  ffca1e81aefc48ac  Please stop removing content from Wikipedia; i...   \n159560  ffca8d71d71a3fae  Image:Barack-obama-mother.jpg listed for delet...   \n159561  ffcdcb71854f6d8a  \"Editing of article without Consensus & Remova...   \n159562  ffd2e85b07b3c7e4  \"\\nNo he did not, read it again (I would have ...   \n159563  ffd72e9766c09c97  \"\\n Auto guides and the motoring press are not...   \n159564  ffe029a7c79dc7fe  \"\\nplease identify what part of BLP applies be...   \n159565  ffe897e7f7182c90  Catalan independentism is the social movement ...   \n159566  ffe8b9316245be30  The numbers in parentheses are the additional ...   \n159567  ffe987279560d7ff  \":::::And for the second time of asking, when ...   \n159568  ffea4adeee384e90  You should be ashamed of yourself \\n\\nThat is ...   \n159569  ffee36eab5c267c9  Spitzer \\n\\nUmm, theres no actual article for ...   \n159570  fff125370e4aaaf3  And it looks like it was actually you who put ...   \n159571  fff46fc426af1f9a  \"\\nAnd ... I really don't think you understand...   \n\n            2             3        4       5       6              7  \n0       toxic  severe_toxic  obscene  threat  insult  identity_hate  \n1           0             0        0       0       0              0  \n2           0             0        0       0       0              0  \n3           0             0        0       0       0              0  \n4           0             0        0       0       0              0  \n5           0             0        0       0       0              0  \n6           0             0        0       0       0              0  \n7           1             1        1       0       1              0  \n8           0             0        0       0       0              0  \n9           0             0        0       0       0              0  \n10          0             0        0       0       0              0  \n11          0             0        0       0       0              0  \n12          0             0        0       0       0              0  \n13          1             0        0       0       0              0  \n14          0             0        0       0       0              0  \n15          0             0        0       0       0              0  \n16          0             0        0       0       0              0  \n17          1             0        0       0       0              0  \n18          0             0        0       0       0              0  \n19          0             0        0       0       0              0  \n20          0             0        0       0       0              0  \n21          0             0        0       0       0              0  \n22          0             0        0       0       0              0  \n23          0             0        0       0       0              0  \n24          0             0        0       0       0              0  \n25          0             0        0       0       0              0  \n26          0             0        0       0       0              0  \n27          0             0        0       0       0              0  \n28          0             0        0       0       0              0  \n29          0             0        0       0       0              0  \n...       ...           ...      ...     ...     ...            ...  \n159542      1             0        1       0       1              0  \n159543      0             0        0       0       0              0  \n159544      0             0        0       0       0              0  \n159545      0             0        0       0       0              0  \n159546      0             0        0       0       0              0  \n159547      1             0        0       0       1              0  \n159548      0             0        0       0       0              0  \n159549      0             0        0       0       0              0  \n159550      0             0        0       0       0              0  \n159551      0             0        0       0       0              0  \n159552      0             0        0       0       0              0  \n159553      0             0        0       0       0              0  \n159554      0             0        0       0       0              0  \n159555      1             0        1       0       1              0  \n159556      0             0        0       0       0              0  \n159557      0             0        0       0       0              0  \n159558      0             0        0       0       0              0  \n159559      0             0        0       0       0              0  \n159560      0             0        0       0       0              0  \n159561      0             0        0       0       0              0  \n159562      0             0        0       0       0              0  \n159563      0             0        0       0       0              0  \n159564      0             0        0       0       0              0  \n159565      0             0        0       0       0              0  \n159566      0             0        0       0       0              0  \n159567      0             0        0       0       0              0  \n159568      0             0        0       0       0              0  \n159569      0             0        0       0       0              0  \n159570      0             0        0       0       0              0  \n159571      0             0        0       0       0              0  \n\n[159572 rows x 8 columns]\n"
     ]
    }
   ],
   "source": [
    "print(df)"
   ]
  },
  {
   "cell_type": "code",
   "execution_count": 16,
   "metadata": {},
   "outputs": [],
   "source": [
    "X_train = df.iloc[:, :2].values\n",
    "Y_train = df.iloc[:, 2:].values\n",
    "\n",
    "def split_comment(data):\n",
    "    res = []\n",
    "    for i, l in enumerate(data[1:]):\n",
    "        ident = l[0]\n",
    "        phrase = l[1]\n",
    "        res.append((ident, np.asarray(re.findall(r\"[\\w']+|[.,!?;]\", phrase)))) # Sépare ponctution et mots de la séquence\n",
    "    return res\n",
    "\n",
    "def mk_vocab(data):\n",
    "    vocab = {}\n",
    "    count = {}\n",
    "    for (ident, p) in data:\n",
    "        for w in p:\n",
    "            if w not in count:\n",
    "                count[w] = 1\n",
    "            else:\n",
    "                count[w] += 1    \n",
    "    for (ident, p) in data:\n",
    "        for w in p:\n",
    "            if w not in vocab and count[w] >= 10:\n",
    "                vocab[w] = len(vocab)\n",
    "    return count, vocab\n",
    "\n",
    "X_train = split_comment(X_train)\n",
    "count, vocab = mk_vocab(X_train)"
   ]
  },
  {
   "cell_type": "code",
   "execution_count": 15,
   "metadata": {},
   "outputs": [
    {
     "name": "stdout",
     "output_type": "stream",
     "text": [
      "253750\n"
     ]
    }
   ],
   "source": [
    "print(len(vocab))"
   ]
  },
  {
   "cell_type": "code",
   "execution_count": null,
   "metadata": {},
   "outputs": [],
   "source": []
  }
 ],
 "metadata": {
  "kernelspec": {
   "display_name": "Python 3",
   "language": "python",
   "name": "python3"
  },
  "language_info": {
   "codemirror_mode": {
    "name": "ipython",
    "version": 3
   },
   "file_extension": ".py",
   "mimetype": "text/x-python",
   "name": "python",
   "nbconvert_exporter": "python",
   "pygments_lexer": "ipython3",
   "version": "3.7.1"
  }
 },
 "nbformat": 4,
 "nbformat_minor": 2
}
