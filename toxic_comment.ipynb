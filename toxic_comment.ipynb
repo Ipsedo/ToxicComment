{
 "cells": [
  {
   "cell_type": "markdown",
   "metadata": {},
   "source": [
    "# Toxic Comment"
   ]
  },
  {
   "cell_type": "markdown",
   "metadata": {},
   "source": [
    "## Chargement des données"
   ]
  },
  {
   "cell_type": "code",
   "execution_count": 1,
   "metadata": {},
   "outputs": [],
   "source": [
    "import data.read_data as read\n",
    "import data.transform_data as transform\n",
    "from numpy import concatenate\n"
   ]
  },
  {
   "cell_type": "code",
   "execution_count": 2,
   "metadata": {},
   "outputs": [],
   "source": [
    "train_csv_file_name = \"res/train.csv\"\n",
    "test_csv_file_name = \"res/test.csv\"\n",
    "test_label_csv_file_name = \"res/test_labels.csv\"\n",
    "submission_csv_file_name = \"res/sample_submission.csv\"\n"
   ]
  },
  {
   "cell_type": "code",
   "execution_count": 3,
   "metadata": {},
   "outputs": [],
   "source": [
    "df_train = read.load_train_csv(train_csv_file_name)\n"
   ]
  },
  {
   "cell_type": "code",
   "execution_count": 4,
   "metadata": {},
   "outputs": [
    {
     "name": "stdout",
     "output_type": "stream",
     "text": [
      "                      id                                       comment_text  \\\n",
      "0       0000997932d777bf  Explanation\\nWhy the edits made under my usern...   \n",
      "1       000103f0d9cfb60f  D'aww! He matches this background colour I'm s...   \n",
      "2       000113f07ec002fd  Hey man, I'm really not trying to edit war. It...   \n",
      "3       0001b41b1c6bb37e  \"\\nMore\\nI can't make any real suggestions on ...   \n",
      "4       0001d958c54c6e35  You, sir, are my hero. Any chance you remember...   \n",
      "5       00025465d4725e87  \"\\n\\nCongratulations from me as well, use the ...   \n",
      "6       0002bcb3da6cb337       COCKSUCKER BEFORE YOU PISS AROUND ON MY WORK   \n",
      "7       00031b1e95af7921  Your vandalism to the Matt Shirvington article...   \n",
      "8       00037261f536c51d  Sorry if the word 'nonsense' was offensive to ...   \n",
      "9       00040093b2687caa  alignment on this subject and which are contra...   \n",
      "10      0005300084f90edc  \"\\nFair use rationale for Image:Wonju.jpg\\n\\nT...   \n",
      "11      00054a5e18b50dd4  bbq \\n\\nbe a man and lets discuss it-maybe ove...   \n",
      "12      0005c987bdfc9d4b  Hey... what is it..\\n@ | talk .\\nWhat is it......   \n",
      "13      0006f16e4e9f292e  Before you start throwing accusations and warn...   \n",
      "14      00070ef96486d6f9  Oh, and the girl above started her arguments w...   \n",
      "15      00078f8ce7eb276d  \"\\n\\nJuelz Santanas Age\\n\\nIn 2002, Juelz Sant...   \n",
      "16      0007e25b2121310b  Bye! \\n\\nDon't look, come or think of comming ...   \n",
      "17      000897889268bc93   REDIRECT Talk:Voydan Pop Georgiev- Chernodrinski   \n",
      "18      0009801bd85e5806  The Mitsurugi point made no sense - why not ar...   \n",
      "19      0009eaea3325de8c  Don't mean to bother you \\n\\nI see that you're...   \n",
      "20      000b08c464718505  \"\\n\\n Regarding your recent edits \\n\\nOnce aga...   \n",
      "21      000bfd0867774845  \"\\nGood to know. About me, yeah, I'm studying ...   \n",
      "22      000c0dfd995809fa  \"\\n\\n Snowflakes are NOT always symmetrical! \\...   \n",
      "23      000c6a3f0cd3ba8e  \"\\n\\n The Signpost: 24 September 2012 \\n\\n Rea...   \n",
      "24      000cfee90f50d471  \"\\n\\nRe-considering 1st paragraph edit?\\nI don...   \n",
      "25      000eefc67a2c930f  Radial symmetry \\n\\nSeveral now extinct lineag...   \n",
      "26      000f35deef84dc4a  There's no need to apologize. A Wikipedia arti...   \n",
      "27      000ffab30195c5e1  Yes, because the mother of the child in the ca...   \n",
      "28      0010307a3a50a353  \"\\nOk. But it will take a bit of work but I ca...   \n",
      "29      0010833a96e1f886  \"== A barnstar for you! ==\\n\\n  The Real Life ...   \n",
      "...                  ...                                                ...   \n",
      "159541  ffa33d3122b599d6  Your absurd edits \\n\\nYour absurd edits on gre...   \n",
      "159542  ffa95244f261527f  maybe he's got better things to do than spend ...   \n",
      "159543  ffad104337fe9891  scrap that, it does meet criteria and its gone...   \n",
      "159544  ffaed63c487a2b42                                You could do worse.   \n",
      "159545  ffb268f37788a011  , 7 March 2011 (UTC)\\nAre you also User:Bmatts...   \n",
      "159546  ffb47123b2d82762  \"\\n\\nHey listen don't you ever!!!! Delete my e...   \n",
      "159547  ffb7b4c3d3ae5842                     Thank you very, very much.  ·✆   \n",
      "159548  ffb93b0a0a1e78f9                        Talkback: 15 September 2012   \n",
      "159549  ffb998f9749bd83e                         2005 (UTC)\\n 06:35, 31 Mar   \n",
      "159550  ffba5332d6b8fd14  i agree/ on another note lil wayne is a talent...   \n",
      "159551  ffbc2db4225258dd  While about half the references are from BYU-I...   \n",
      "159552  ffbcd64a71775e04  Prague Spring \\n\\nI think that Prague Spring d...   \n",
      "159553  ffbd331a3aa269b9  I see this as having been merged; undoing one ...   \n",
      "159554  ffbdbb0483ed0841  and i'm going to keep posting the stuff u dele...   \n",
      "159555  ffc2f409658571f1  \"\\n\\nHow come when you download that MP3 it's ...   \n",
      "159556  ffc671f2acdd80e1  I'll be on IRC, too, if you have a more specif...   \n",
      "159557  ffc7bbb177c3c966  It is my opinion that that happens to be off-t...   \n",
      "159558  ffca1e81aefc48ac  Please stop removing content from Wikipedia; i...   \n",
      "159559  ffca8d71d71a3fae  Image:Barack-obama-mother.jpg listed for delet...   \n",
      "159560  ffcdcb71854f6d8a  \"Editing of article without Consensus & Remova...   \n",
      "159561  ffd2e85b07b3c7e4  \"\\nNo he did not, read it again (I would have ...   \n",
      "159562  ffd72e9766c09c97  \"\\n Auto guides and the motoring press are not...   \n",
      "159563  ffe029a7c79dc7fe  \"\\nplease identify what part of BLP applies be...   \n",
      "159564  ffe897e7f7182c90  Catalan independentism is the social movement ...   \n",
      "159565  ffe8b9316245be30  The numbers in parentheses are the additional ...   \n",
      "159566  ffe987279560d7ff  \":::::And for the second time of asking, when ...   \n",
      "159567  ffea4adeee384e90  You should be ashamed of yourself \\n\\nThat is ...   \n",
      "159568  ffee36eab5c267c9  Spitzer \\n\\nUmm, theres no actual article for ...   \n",
      "159569  fff125370e4aaaf3  And it looks like it was actually you who put ...   \n",
      "159570  fff46fc426af1f9a  \"\\nAnd ... I really don't think you understand...   \n",
      "\n",
      "        toxic  severe_toxic  obscene  threat  insult  identity_hate  \n",
      "0           0             0        0       0       0              0  \n",
      "1           0             0        0       0       0              0  \n",
      "2           0             0        0       0       0              0  \n",
      "3           0             0        0       0       0              0  \n",
      "4           0             0        0       0       0              0  \n",
      "5           0             0        0       0       0              0  \n",
      "6           1             1        1       0       1              0  \n",
      "7           0             0        0       0       0              0  \n",
      "8           0             0        0       0       0              0  \n",
      "9           0             0        0       0       0              0  \n",
      "10          0             0        0       0       0              0  \n",
      "11          0             0        0       0       0              0  \n",
      "12          1             0        0       0       0              0  \n",
      "13          0             0        0       0       0              0  \n",
      "14          0             0        0       0       0              0  \n",
      "15          0             0        0       0       0              0  \n",
      "16          1             0        0       0       0              0  \n",
      "17          0             0        0       0       0              0  \n",
      "18          0             0        0       0       0              0  \n",
      "19          0             0        0       0       0              0  \n",
      "20          0             0        0       0       0              0  \n",
      "21          0             0        0       0       0              0  \n",
      "22          0             0        0       0       0              0  \n",
      "23          0             0        0       0       0              0  \n",
      "24          0             0        0       0       0              0  \n",
      "25          0             0        0       0       0              0  \n",
      "26          0             0        0       0       0              0  \n",
      "27          0             0        0       0       0              0  \n",
      "28          0             0        0       0       0              0  \n",
      "29          0             0        0       0       0              0  \n",
      "...       ...           ...      ...     ...     ...            ...  \n",
      "159541      1             0        1       0       1              0  \n",
      "159542      0             0        0       0       0              0  \n",
      "159543      0             0        0       0       0              0  \n",
      "159544      0             0        0       0       0              0  \n",
      "159545      0             0        0       0       0              0  \n",
      "159546      1             0        0       0       1              0  \n",
      "159547      0             0        0       0       0              0  \n",
      "159548      0             0        0       0       0              0  \n",
      "159549      0             0        0       0       0              0  \n",
      "159550      0             0        0       0       0              0  \n",
      "159551      0             0        0       0       0              0  \n",
      "159552      0             0        0       0       0              0  \n",
      "159553      0             0        0       0       0              0  \n",
      "159554      1             0        1       0       1              0  \n",
      "159555      0             0        0       0       0              0  \n",
      "159556      0             0        0       0       0              0  \n",
      "159557      0             0        0       0       0              0  \n",
      "159558      0             0        0       0       0              0  \n",
      "159559      0             0        0       0       0              0  \n",
      "159560      0             0        0       0       0              0  \n",
      "159561      0             0        0       0       0              0  \n",
      "159562      0             0        0       0       0              0  \n",
      "159563      0             0        0       0       0              0  \n",
      "159564      0             0        0       0       0              0  \n",
      "159565      0             0        0       0       0              0  \n",
      "159566      0             0        0       0       0              0  \n",
      "159567      0             0        0       0       0              0  \n",
      "159568      0             0        0       0       0              0  \n",
      "159569      0             0        0       0       0              0  \n",
      "159570      0             0        0       0       0              0  \n",
      "\n",
      "[159571 rows x 8 columns]\n"
     ]
    }
   ],
   "source": [
    "print(df_train)\n"
   ]
  },
  {
   "cell_type": "code",
   "execution_count": 5,
   "metadata": {},
   "outputs": [
    {
     "name": "stdout",
     "output_type": "stream",
     "text": [
      "toxic : 15294 / 159571\n",
      "severe_toxic : 1595 / 159571\n",
      "obscene : 8449 / 159571\n",
      "threat : 478 / 159571\n",
      "insult : 7877 / 159571\n",
      "identity_hate : 1405 / 159571\n"
     ]
    }
   ],
   "source": [
    "for col in df_train.iloc[:, 2:]:\n",
    "    print(col, \":\", df_train[col].sum(), \"/\", len(df_train))\n"
   ]
  },
  {
   "cell_type": "code",
   "execution_count": 6,
   "metadata": {},
   "outputs": [
    {
     "name": "stdout",
     "output_type": "stream",
     "text": [
      "id               object\n",
      "comment_text     object\n",
      "toxic             int64\n",
      "severe_toxic      int64\n",
      "obscene           int64\n",
      "threat            int64\n",
      "insult            int64\n",
      "identity_hate     int64\n",
      "dtype: object\n"
     ]
    }
   ],
   "source": [
    "print(df_train.dtypes)\n"
   ]
  },
  {
   "cell_type": "code",
   "execution_count": 7,
   "metadata": {},
   "outputs": [],
   "source": [
    "limit_train = 100000\n"
   ]
  },
  {
   "cell_type": "code",
   "execution_count": 8,
   "metadata": {},
   "outputs": [],
   "source": [
    "X_train = df_train.iloc[:limit_train, :2].values\n",
    "Y_train = df_train.iloc[:limit_train, 2:].values\n",
    "\n",
    "X_test = df_train.iloc[limit_train:, :2].values\n",
    "Y_test = df_train.iloc[limit_train:, 2:].values\n",
    "\n",
    "X_train = transform.split_comment(X_train)\n",
    "X_test = transform.split_comment(X_test)\n",
    "\n",
    "count, vocab = transform.mk_vocab(X_train + X_test)\n"
   ]
  },
  {
   "cell_type": "code",
   "execution_count": 9,
   "metadata": {},
   "outputs": [
    {
     "name": "stdout",
     "output_type": "stream",
     "text": [
      "25385\n"
     ]
    }
   ],
   "source": [
    "print(len(vocab))\n"
   ]
  },
  {
   "cell_type": "code",
   "execution_count": 10,
   "metadata": {},
   "outputs": [
    {
     "name": "stdout",
     "output_type": "stream",
     "text": [
      "('0000997932d777bf', array(['explanation', 'why', 'the', 'edits', 'made', 'under', 'my',\n",
      "       'username', 'hardcore', 'metallica', 'fan', 'were', 'reverted',\n",
      "       'they', 'weren', 't', 'vandalisms', 'just', 'closure', 'on',\n",
      "       'some', 'gas', 'after', 'i', 'voted', 'at', 'new', 'york', 'dolls',\n",
      "       'fac', 'and', 'please', 'don', 't', 'remove', 'the', 'template',\n",
      "       'from', 'the', 'talk', 'page', 'since', 'i', 'm', 'retired', 'now',\n",
      "       '89', '205', '38', '27'], dtype='<U11'))\n"
     ]
    }
   ],
   "source": [
    "print(X_train[0])\n"
   ]
  },
  {
   "cell_type": "code",
   "execution_count": 11,
   "metadata": {},
   "outputs": [],
   "source": [
    "ident_train, X_train = transform.pass_data_to_word_idx(X_train, vocab, count)\n",
    "ident_test, X_test = transform.pass_data_to_word_idx(X_test, vocab, count)\n"
   ]
  },
  {
   "cell_type": "code",
   "execution_count": 12,
   "metadata": {},
   "outputs": [
    {
     "name": "stdout",
     "output_type": "stream",
     "text": [
      "1400\n",
      "[array([ 1,  2,  3,  4,  5,  6,  7,  8,  9, 10, 11, 12, 13, 14, 15, 16, 17,\n",
      "       18, 19, 20, 21, 22, 23, 24, 25, 26, 27, 28, 29, 30, 31, 32, 33, 16,\n",
      "       34,  3, 35, 36,  3, 37, 38, 39, 24, 40, 41, 42, 43, 44, 45, 46])\n",
      " array([47, 48, 49, 50, 51, 52, 53, 24, 40, 54, 55, 56, 57, 37, 58, 59, 60,\n",
      "       61, 62, 63])\n",
      " array([64, 65, 24, 40, 66, 67, 68, 69, 70, 71, 72, 73, 18, 74, 51, 75, 76,\n",
      "       77, 78, 79, 80, 31, 81, 69, 82, 83,  4, 84, 85,  7, 37, 38, 49, 86,\n",
      "       69, 87, 88, 89,  3, 90, 91,  3, 92, 93])\n",
      " ...\n",
      " array([ 8954,  2380,   128,    92,   176,   136,  6633,  2059, 15974,\n",
      "        3645])\n",
      " array([  31,   72, 1415,  384,   72,  185,  893,  133,  294, 1130,   20,\n",
      "          3,  279,   69,  134,    3,  132,  616,  275,   42,   74,   24,\n",
      "        383,   26,   72])\n",
      " array([  31,   24,   66,   33,   16,  112,  133,  577,   24,  446,  506,\n",
      "         31,    7, 2501,  185,  529, 1107, 1836,  162, 1839,   85, 1771,\n",
      "       1062,  133,  134,  529, 2580,  242, 1836,   84,   85, 6725, 6037,\n",
      "        283])]\n",
      "[array([ 1,  2,  3,  4,  5,  6,  7,  8,  9, 10, 11, 12, 13, 14, 15, 16, 17,\n",
      "       18, 19, 20, 21, 22, 23, 24, 25, 26, 27, 28, 29, 30, 31, 32, 33, 16,\n",
      "       34,  3, 35, 36,  3, 37, 38, 39, 24, 40, 41, 42, 43, 44, 45, 46])\n",
      " array([47, 48, 49, 50, 51, 52, 53, 24, 40, 54, 55, 56, 57, 37, 58, 59, 60,\n",
      "       61, 62, 63])\n",
      " array([64, 65, 24, 40, 66, 67, 68, 69, 70, 71, 72, 73, 18, 74, 51, 75, 76,\n",
      "       77, 78, 79, 80, 31, 81, 69, 82, 83,  4, 84, 85,  7, 37, 38, 49, 86,\n",
      "       69, 87, 88, 89,  3, 90, 91,  3, 92, 93])\n",
      " ... array([  72,  785,  120,    3, 1272,   67,   85,    3, 1272])\n",
      " array([  101,   133,   242,    20,    96,  1777,   303,   133,   180,\n",
      "         252,    74,   119,  1285,  1906,   507,    23,  7404,   118,\n",
      "        8696,    31,    67,   120,   108, 11241,   444,   180,  3393,\n",
      "        1144,    69, 23070,   598,  3073,     3,  1103,  2633, 12101,\n",
      "         185,    74,  1851,    76,   549,   117,  1906,  1285,   120,\n",
      "           3,  2633,  5033,   470,   134,   178,   230,   136,    96,\n",
      "        2627,    74,    76,     3,  1103,    72,    76,    42,   120,\n",
      "        1276,   120,     3,   709,   142,    76,   108,  5604,     3,\n",
      "          76,  1068,  1367,   149,  2517,  3239,   120,    74,   677,\n",
      "         149,  1791,    76,   893,  1049,   255,   274,  4796,   124,\n",
      "        1777,  1811,   206,    76,   643,  2912,    69,  1683,    91,\n",
      "           3,  6121,  4659,    36,     3,  2764,    72,    76,   582,\n",
      "          69,    18,   134,    21,  8459,    95,  3037,    20,   269,\n",
      "          74,    49,   131,    67,   507,   166,   688])\n",
      " array([  484,    78,   424,    36,    37,  4107, 18261,   133,   118,\n",
      "          70,   911,    31,   120,  3001,  2386,    85,   353,  2442,\n",
      "         101,   133,   406,    96,    88,   133,   180,   105,  2891])]\n"
     ]
    }
   ],
   "source": [
    "max_len = transform.get_max_len_sent(concatenate((X_train, X_test), axis=0))\n",
    "print(max_len)\n",
    "print(concatenate((X_train, X_test), axis=0))\n",
    "print(X_train)\n"
   ]
  },
  {
   "cell_type": "code",
   "execution_count": 13,
   "metadata": {},
   "outputs": [
    {
     "name": "stdout",
     "output_type": "stream",
     "text": [
      "67.03647905947822\n"
     ]
    }
   ],
   "source": [
    "mean = 0\n",
    "total = 0\n",
    "for s in concatenate((X_train, X_test), axis=0):\n",
    "    total += 1\n",
    "    mean += s.shape[0]\n",
    "print(mean / total)\n"
   ]
  },
  {
   "cell_type": "code",
   "execution_count": 14,
   "metadata": {},
   "outputs": [],
   "source": [
    "X_train = transform.pad_sentences(X_train, max_len, vocab[transform.padding])\n",
    "X_test = transform.pad_sentences(X_test, max_len, vocab[transform.padding])\n"
   ]
  },
  {
   "cell_type": "code",
   "execution_count": 15,
   "metadata": {},
   "outputs": [
    {
     "name": "stdout",
     "output_type": "stream",
     "text": [
      "[[  1.   2.   3. ...   0.   0.   0.]\n",
      " [ 47.  48.  49. ...   0.   0.   0.]\n",
      " [ 64.  65.  24. ...   0.   0.   0.]\n",
      " ...\n",
      " [173. 174.  69. ...   0.   0.   0.]\n",
      " [182. 101.   3. ...   0.   0.   0.]\n",
      " [218.  20.  51. ...   0.   0.   0.]]\n"
     ]
    }
   ],
   "source": [
    "print(X_train[0:10])\n"
   ]
  },
  {
   "cell_type": "code",
   "execution_count": 16,
   "metadata": {},
   "outputs": [
    {
     "name": "stdout",
     "output_type": "stream",
     "text": [
      "(100000, 1400)\n"
     ]
    }
   ],
   "source": [
    "print(X_train.shape)\n"
   ]
  },
  {
   "cell_type": "code",
   "execution_count": 17,
   "metadata": {},
   "outputs": [
    {
     "name": "stdout",
     "output_type": "stream",
     "text": [
      "[0 0 0 0 0 0]\n",
      "(59571, 6)\n"
     ]
    }
   ],
   "source": [
    "print(Y_test[0])\n",
    "print(Y_test.shape)\n"
   ]
  },
  {
   "cell_type": "markdown",
   "metadata": {},
   "source": [
    "## Apprentissage"
   ]
  },
  {
   "cell_type": "code",
   "execution_count": 18,
   "metadata": {},
   "outputs": [],
   "source": [
    "from model.conv_model import ConvModel\n",
    "import torch as th\n",
    "import torch.nn as nn\n",
    "from utils.cuda import use_cuda\n",
    "from tqdm import tqdm\n",
    "from torchnet.meter import AUCMeter\n",
    "import sys\n"
   ]
  },
  {
   "cell_type": "code",
   "execution_count": 19,
   "metadata": {},
   "outputs": [
    {
     "data": {
      "text/plain": [
       "True"
      ]
     },
     "execution_count": 19,
     "metadata": {},
     "output_type": "execute_result"
    }
   ],
   "source": [
    "th.cuda.is_available()\n"
   ]
  },
  {
   "cell_type": "code",
   "execution_count": 20,
   "metadata": {},
   "outputs": [
    {
     "name": "stderr",
     "output_type": "stream",
     "text": [
      "100%|██████████| 3125/3125 [01:48<00:00, 28.75it/s]\n"
     ]
    },
    {
     "name": "stdout",
     "output_type": "stream",
     "text": [
      "Epoch 0 : loss = 0.216991\n"
     ]
    },
    {
     "name": "stderr",
     "output_type": "stream",
     "text": [
      "100%|██████████| 1861/1861 [00:06<00:00, 286.87it/s]\n"
     ]
    },
    {
     "name": "stdout",
     "output_type": "stream",
     "text": [
      "{'toxic': 0.8596394443700154, 'severe_toxic': 0.933021429700047, 'obscene': 0.8867894577863621, 'threat': 0.8530777138191669, 'insult': 0.8987277502493454, 'identity_hate': 0.8765552006547244}\n",
      "Mean ROC AUC : 0.884635\n"
     ]
    },
    {
     "name": "stderr",
     "output_type": "stream",
     "text": [
      "100%|██████████| 3125/3125 [01:49<00:00, 28.47it/s]\n"
     ]
    },
    {
     "name": "stdout",
     "output_type": "stream",
     "text": [
      "Epoch 1 : loss = 0.095156\n"
     ]
    },
    {
     "name": "stderr",
     "output_type": "stream",
     "text": [
      "100%|██████████| 1861/1861 [00:06<00:00, 284.00it/s]\n"
     ]
    },
    {
     "name": "stdout",
     "output_type": "stream",
     "text": [
      "{'toxic': 0.8979828794330995, 'severe_toxic': 0.9611885225746786, 'obscene': 0.9190571040499274, 'threat': 0.9031835083707473, 'insult': 0.9294626175956475, 'identity_hate': 0.9244235947768089}\n",
      "Mean ROC AUC : 0.922550\n"
     ]
    },
    {
     "name": "stderr",
     "output_type": "stream",
     "text": [
      "100%|██████████| 3125/3125 [01:49<00:00, 28.60it/s]\n"
     ]
    },
    {
     "name": "stdout",
     "output_type": "stream",
     "text": [
      "Epoch 2 : loss = 0.082004\n"
     ]
    },
    {
     "name": "stderr",
     "output_type": "stream",
     "text": [
      "100%|██████████| 1861/1861 [00:06<00:00, 291.49it/s]\n"
     ]
    },
    {
     "name": "stdout",
     "output_type": "stream",
     "text": [
      "{'toxic': 0.9129917989362156, 'severe_toxic': 0.9691751407374218, 'obscene': 0.9331740058864366, 'threat': 0.9086111261698593, 'insult': 0.940609974407021, 'identity_hate': 0.9363484903251971}\n",
      "Mean ROC AUC : 0.933485\n"
     ]
    },
    {
     "name": "stderr",
     "output_type": "stream",
     "text": [
      "100%|██████████| 3125/3125 [01:49<00:00, 28.65it/s]\n"
     ]
    },
    {
     "name": "stdout",
     "output_type": "stream",
     "text": [
      "Epoch 3 : loss = 0.071769\n"
     ]
    },
    {
     "name": "stderr",
     "output_type": "stream",
     "text": [
      "100%|██████████| 1861/1861 [00:06<00:00, 291.68it/s]\n"
     ]
    },
    {
     "name": "stdout",
     "output_type": "stream",
     "text": [
      "{'toxic': 0.9240365750682985, 'severe_toxic': 0.9752181811392957, 'obscene': 0.9433256713158774, 'threat': 0.9228502678540627, 'insult': 0.950184520981091, 'identity_hate': 0.9400050772771361}\n",
      "Mean ROC AUC : 0.942603\n"
     ]
    },
    {
     "name": "stderr",
     "output_type": "stream",
     "text": [
      "100%|██████████| 3125/3125 [01:48<00:00, 28.76it/s]\n"
     ]
    },
    {
     "name": "stdout",
     "output_type": "stream",
     "text": [
      "Epoch 4 : loss = 0.065485\n"
     ]
    },
    {
     "name": "stderr",
     "output_type": "stream",
     "text": [
      "100%|██████████| 1861/1861 [00:06<00:00, 258.20it/s]\n"
     ]
    },
    {
     "name": "stdout",
     "output_type": "stream",
     "text": [
      "{'toxic': 0.9306297276342421, 'severe_toxic': 0.9760127675695809, 'obscene': 0.9483951021873572, 'threat': 0.9301407897136154, 'insult': 0.9551360885135088, 'identity_hate': 0.9417606536614425}\n",
      "Mean ROC AUC : 0.947013\n"
     ]
    },
    {
     "name": "stderr",
     "output_type": "stream",
     "text": [
      "100%|██████████| 3125/3125 [01:49<00:00, 28.61it/s]\n"
     ]
    },
    {
     "name": "stdout",
     "output_type": "stream",
     "text": [
      "Epoch 5 : loss = 0.060825\n"
     ]
    },
    {
     "name": "stderr",
     "output_type": "stream",
     "text": [
      "100%|██████████| 1861/1861 [00:06<00:00, 286.56it/s]\n"
     ]
    },
    {
     "name": "stdout",
     "output_type": "stream",
     "text": [
      "{'toxic': 0.9344494165753546, 'severe_toxic': 0.9764538028815484, 'obscene': 0.9517232430533002, 'threat': 0.9309773716296467, 'insult': 0.9561270004136017, 'identity_hate': 0.9406103147964117}\n",
      "Mean ROC AUC : 0.948390\n"
     ]
    },
    {
     "name": "stderr",
     "output_type": "stream",
     "text": [
      "100%|██████████| 3125/3125 [01:49<00:00, 28.61it/s]\n"
     ]
    },
    {
     "name": "stdout",
     "output_type": "stream",
     "text": [
      "Epoch 6 : loss = 0.056238\n"
     ]
    },
    {
     "name": "stderr",
     "output_type": "stream",
     "text": [
      "100%|██████████| 1861/1861 [00:06<00:00, 285.22it/s]\n"
     ]
    },
    {
     "name": "stdout",
     "output_type": "stream",
     "text": [
      "{'toxic': 0.9367262411060531, 'severe_toxic': 0.9776868348184584, 'obscene': 0.9539244607821126, 'threat': 0.9310948298662619, 'insult': 0.9583530428469792, 'identity_hate': 0.940110430931513}\n",
      "Mean ROC AUC : 0.949649\n"
     ]
    },
    {
     "name": "stderr",
     "output_type": "stream",
     "text": [
      "100%|██████████| 3125/3125 [01:49<00:00, 28.61it/s]\n"
     ]
    },
    {
     "name": "stdout",
     "output_type": "stream",
     "text": [
      "Epoch 7 : loss = 0.051543\n"
     ]
    },
    {
     "name": "stderr",
     "output_type": "stream",
     "text": [
      "100%|██████████| 1861/1861 [00:06<00:00, 289.50it/s]\n"
     ]
    },
    {
     "name": "stdout",
     "output_type": "stream",
     "text": [
      "{'toxic': 0.9380161852809135, 'severe_toxic': 0.9759164040433294, 'obscene': 0.9538952309027324, 'threat': 0.9307056981208325, 'insult': 0.9580425821626136, 'identity_hate': 0.937762536308176}\n",
      "Mean ROC AUC : 0.949056\n"
     ]
    },
    {
     "name": "stderr",
     "output_type": "stream",
     "text": [
      "100%|██████████| 3125/3125 [01:49<00:00, 28.61it/s]\n"
     ]
    },
    {
     "name": "stdout",
     "output_type": "stream",
     "text": [
      "Epoch 8 : loss = 0.049181\n"
     ]
    },
    {
     "name": "stderr",
     "output_type": "stream",
     "text": [
      "100%|██████████| 1861/1861 [00:06<00:00, 290.51it/s]\n"
     ]
    },
    {
     "name": "stdout",
     "output_type": "stream",
     "text": [
      "{'toxic': 0.9379318894275104, 'severe_toxic': 0.9750394845706796, 'obscene': 0.9535076567833695, 'threat': 0.9245812367448791, 'insult': 0.9562402521696215, 'identity_hate': 0.9322374830707444}\n",
      "Mean ROC AUC : 0.946590\n"
     ]
    },
    {
     "name": "stderr",
     "output_type": "stream",
     "text": [
      "100%|██████████| 3125/3125 [01:49<00:00, 28.63it/s]\n"
     ]
    },
    {
     "name": "stdout",
     "output_type": "stream",
     "text": [
      "Epoch 9 : loss = 0.047196\n"
     ]
    },
    {
     "name": "stderr",
     "output_type": "stream",
     "text": [
      "100%|██████████| 1861/1861 [00:06<00:00, 289.59it/s]\n"
     ]
    },
    {
     "name": "stdout",
     "output_type": "stream",
     "text": [
      "{'toxic': 0.9364529935387675, 'severe_toxic': 0.9688607782120302, 'obscene': 0.9502992914235496, 'threat': 0.912587046409967, 'insult': 0.9517796769107829, 'identity_hate': 0.9215154955539065}\n",
      "Mean ROC AUC : 0.940249\n"
     ]
    }
   ],
   "source": [
    "model = ConvModel(len(vocab), max_len)\n",
    "loss_fn = nn.BCELoss()\n",
    "\n",
    "if use_cuda():\n",
    "    model.cuda()\n",
    "    loss_fn.cuda()\n",
    "\n",
    "opt = th.optim.Adagrad(model.parameters(), lr=1e-3)\n",
    "\n",
    "nb_epoch = 10\n",
    "\n",
    "batch_size = 32\n",
    "nb_batch = int(X_train.shape[0] / batch_size)\n",
    "\n",
    "auc_meters = {0:AUCMeter(), 1:AUCMeter(), 2:AUCMeter(), 3:AUCMeter(), 4:AUCMeter(), 5:AUCMeter()}\n",
    "\n",
    "for e in range(nb_epoch):\n",
    "    model.train()\n",
    "        \n",
    "    sum_loss = 0\n",
    "    nb_sent = 0\n",
    "    \n",
    "    for i in tqdm(range(nb_batch)):\n",
    "        i_min = batch_size * i\n",
    "        i_max = batch_size * (i + 1) if batch_size * (i + 1) < X_train.shape[0] else X_train.shape[0]\n",
    "                \n",
    "        x = th.Tensor(X_train[i_min:i_max]).long()\n",
    "        y = th.Tensor(Y_train[i_min:i_max])\n",
    "        \n",
    "        if use_cuda():\n",
    "            x, y = x.cuda(), y.cuda()\n",
    "        \n",
    "        out = model(x)\n",
    "        loss = loss_fn(out, y)\n",
    "        loss.backward()\n",
    "        opt.step()\n",
    "        \n",
    "        sum_loss += loss.item()\n",
    "        nb_sent += 1\n",
    "    \n",
    "    sum_loss /= nb_sent\n",
    "    \n",
    "    print(\"Epoch %d : loss = %f\" % (e, sum_loss))\n",
    "    \n",
    "    model.eval()\n",
    "    \n",
    "    for i in range(6):\n",
    "        auc_meters[i].reset()\n",
    "    \n",
    "    x_test = th.Tensor(X_test).long()\n",
    "    y_test = th.Tensor(Y_test)\n",
    "    \n",
    "    batch_size_test = 32\n",
    "    nb_batch_test = int(x_test.size(0) / batch_size_test)\n",
    "    \n",
    "    for i in tqdm(range(nb_batch_test)):\n",
    "        i_min = batch_size_test * i\n",
    "        i_max = batch_size_test * (i + 1) if batch_size_test * (i + 1) < x_test.size(0) else x_test.size(0)\n",
    "        \n",
    "        x = x_test[i_min:i_max]\n",
    "        y = y_test[i_min:i_max]\n",
    "        \n",
    "        if use_cuda():\n",
    "            x, y = x.cuda(), y.cuda()\n",
    "        \n",
    "        out_test = model(x)\n",
    "        \n",
    "        for i in range(6):\n",
    "            auc_meters[i].add(out_test[:, i].detach(), y[:, i].detach())\n",
    "        \n",
    "    roc_auc_scores = {\n",
    "        \"toxic\": auc_meters[0].value()[0],\n",
    "        \"severe_toxic\": auc_meters[1].value()[0],\n",
    "        \"obscene\": auc_meters[2].value()[0],\n",
    "        \"threat\": auc_meters[3].value()[0],\n",
    "        \"insult\": auc_meters[4].value()[0],\n",
    "        \"identity_hate\": auc_meters[5].value()[0]\n",
    "    }\n",
    "    \n",
    "    print(roc_auc_scores)\n",
    "    print(\"Mean ROC AUC : %f\" % (sum([v for _, v in roc_auc_scores.items()]) / 6))\n",
    "    sys.stdout.flush()\n"
   ]
  },
  {
   "cell_type": "code",
   "execution_count": 21,
   "metadata": {},
   "outputs": [
    {
     "name": "stdout",
     "output_type": "stream",
     "text": [
      "ConvModel(\n",
      "  (emb): Embedding(25385, 16)\n",
      "  (seq1): Sequential(\n",
      "    (0): Conv1d(16, 24, kernel_size=(5,), stride=(1,))\n",
      "    (1): ReLU()\n",
      "    (2): Conv1d(24, 32, kernel_size=(3,), stride=(1,))\n",
      "    (3): ReLU()\n",
      "    (4): MaxPool1d(kernel_size=1394, stride=1394, padding=0, dilation=1, ceil_mode=False)\n",
      "  )\n",
      "  (seq2): Sequential(\n",
      "    (0): Linear(in_features=32, out_features=128, bias=True)\n",
      "    (1): BatchNorm1d(128, eps=1e-05, momentum=0.1, affine=True, track_running_stats=True)\n",
      "    (2): Linear(in_features=128, out_features=6, bias=True)\n",
      "    (3): Sigmoid()\n",
      "  )\n",
      ")\n"
     ]
    }
   ],
   "source": [
    "print(model)\n"
   ]
  },
  {
   "cell_type": "markdown",
   "metadata": {},
   "source": [
    "## Sauvegarde du modèle, vocabulaire etc."
   ]
  },
  {
   "cell_type": "code",
   "execution_count": 22,
   "metadata": {},
   "outputs": [],
   "source": [
    "import pickle\n"
   ]
  },
  {
   "cell_type": "code",
   "execution_count": 23,
   "metadata": {},
   "outputs": [],
   "source": [
    "saved_model = model.cpu()\n",
    "saved_loss = loss_fn.cpu()\n"
   ]
  },
  {
   "cell_type": "code",
   "execution_count": 26,
   "metadata": {},
   "outputs": [],
   "source": [
    "import datetime\n",
    "dt = datetime.datetime.now()\n",
    "saved_identity = \"_100k_\" + dt.strftime(\"%Hh_%Mm_%Ss_%d_%m_%Y\")\n"
   ]
  },
  {
   "cell_type": "code",
   "execution_count": 27,
   "metadata": {},
   "outputs": [],
   "source": [
    "pickle.dump(model, open(\"saved/model\" + saved_identity + \".p\", \"wb\"))\n",
    "pickle.dump(loss_fn, open(\"saved/loss_fn\" + saved_identity + \".p\", \"wb\"))\n",
    "pickle.dump(opt, open(\"saved/opt\" + saved_identity + \".p\", \"wb\"))\n",
    "pickle.dump(vocab, open(\"saved/vocab\" + saved_identity + \".p\", \"wb\"))\n",
    "pickle.dump(count, open(\"saved/count\" + saved_identity + \".p\", \"wb\"))\n"
   ]
  },
  {
   "cell_type": "code",
   "execution_count": null,
   "metadata": {},
   "outputs": [],
   "source": []
  }
 ],
 "metadata": {
  "kernelspec": {
   "display_name": "Python 3",
   "language": "python",
   "name": "python3"
  },
  "language_info": {
   "codemirror_mode": {
    "name": "ipython",
    "version": 3
   },
   "file_extension": ".py",
   "mimetype": "text/x-python",
   "name": "python",
   "nbconvert_exporter": "python",
   "pygments_lexer": "ipython3",
   "version": "3.6.7"
  }
 },
 "nbformat": 4,
 "nbformat_minor": 2
}
