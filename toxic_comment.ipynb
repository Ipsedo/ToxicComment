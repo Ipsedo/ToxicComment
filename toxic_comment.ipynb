{
 "cells": [
  {
   "cell_type": "code",
   "execution_count": 1,
   "metadata": {},
   "outputs": [],
   "source": [
    "import data.read_data as read\n",
    "import data.transform_data as transform\n"
   ]
  },
  {
   "cell_type": "code",
   "execution_count": 2,
   "metadata": {},
   "outputs": [],
   "source": [
    "train_csv_file_name = \"res/train.csv\"\n",
    "test_csv_file_name = \"res/test.csv\"\n",
    "test_label_csv_file_name = \"res/test_labels.csv\"\n",
    "submission_csv_file_name = \"res/sample_submission.csv\"\n"
   ]
  },
  {
   "cell_type": "code",
   "execution_count": 3,
   "metadata": {},
   "outputs": [],
   "source": [
    "df = read.load_train_csv(train_csv_file_name)\n"
   ]
  },
  {
   "cell_type": "code",
   "execution_count": 4,
   "metadata": {},
   "outputs": [
    {
     "name": "stdout",
     "output_type": "stream",
     "text": [
      "                      id                                       comment_text  \\\n0       0000997932d777bf  Explanation\\nWhy the edits made under my usern...   \n1       000103f0d9cfb60f  D'aww! He matches this background colour I'm s...   \n2       000113f07ec002fd  Hey man, I'm really not trying to edit war. It...   \n3       0001b41b1c6bb37e  \"\\nMore\\nI can't make any real suggestions on ...   \n4       0001d958c54c6e35  You, sir, are my hero. Any chance you remember...   \n5       00025465d4725e87  \"\\n\\nCongratulations from me as well, use the ...   \n6       0002bcb3da6cb337       COCKSUCKER BEFORE YOU PISS AROUND ON MY WORK   \n7       00031b1e95af7921  Your vandalism to the Matt Shirvington article...   \n8       00037261f536c51d  Sorry if the word 'nonsense' was offensive to ...   \n9       00040093b2687caa  alignment on this subject and which are contra...   \n10      0005300084f90edc  \"\\nFair use rationale for Image:Wonju.jpg\\n\\nT...   \n11      00054a5e18b50dd4  bbq \\n\\nbe a man and lets discuss it-maybe ove...   \n12      0005c987bdfc9d4b  Hey... what is it..\\n@ | talk .\\nWhat is it......   \n13      0006f16e4e9f292e  Before you start throwing accusations and warn...   \n14      00070ef96486d6f9  Oh, and the girl above started her arguments w...   \n15      00078f8ce7eb276d  \"\\n\\nJuelz Santanas Age\\n\\nIn 2002, Juelz Sant...   \n16      0007e25b2121310b  Bye! \\n\\nDon't look, come or think of comming ...   \n17      000897889268bc93   REDIRECT Talk:Voydan Pop Georgiev- Chernodrinski   \n18      0009801bd85e5806  The Mitsurugi point made no sense - why not ar...   \n19      0009eaea3325de8c  Don't mean to bother you \\n\\nI see that you're...   \n20      000b08c464718505  \"\\n\\n Regarding your recent edits \\n\\nOnce aga...   \n21      000bfd0867774845  \"\\nGood to know. About me, yeah, I'm studying ...   \n22      000c0dfd995809fa  \"\\n\\n Snowflakes are NOT always symmetrical! \\...   \n23      000c6a3f0cd3ba8e  \"\\n\\n The Signpost: 24 September 2012 \\n\\n Rea...   \n24      000cfee90f50d471  \"\\n\\nRe-considering 1st paragraph edit?\\nI don...   \n25      000eefc67a2c930f  Radial symmetry \\n\\nSeveral now extinct lineag...   \n26      000f35deef84dc4a  There's no need to apologize. A Wikipedia arti...   \n27      000ffab30195c5e1  Yes, because the mother of the child in the ca...   \n28      0010307a3a50a353  \"\\nOk. But it will take a bit of work but I ca...   \n29      0010833a96e1f886  \"== A barnstar for you! ==\\n\\n  The Real Life ...   \n...                  ...                                                ...   \n159541  ffa33d3122b599d6  Your absurd edits \\n\\nYour absurd edits on gre...   \n159542  ffa95244f261527f  maybe he's got better things to do than spend ...   \n159543  ffad104337fe9891  scrap that, it does meet criteria and its gone...   \n159544  ffaed63c487a2b42                                You could do worse.   \n159545  ffb268f37788a011  , 7 March 2011 (UTC)\\nAre you also User:Bmatts...   \n159546  ffb47123b2d82762  \"\\n\\nHey listen don't you ever!!!! Delete my e...   \n159547  ffb7b4c3d3ae5842                     Thank you very, very much.  ·✆   \n159548  ffb93b0a0a1e78f9                        Talkback: 15 September 2012   \n159549  ffb998f9749bd83e                         2005 (UTC)\\n 06:35, 31 Mar   \n159550  ffba5332d6b8fd14  i agree/ on another note lil wayne is a talent...   \n159551  ffbc2db4225258dd  While about half the references are from BYU-I...   \n159552  ffbcd64a71775e04  Prague Spring \\n\\nI think that Prague Spring d...   \n159553  ffbd331a3aa269b9  I see this as having been merged; undoing one ...   \n159554  ffbdbb0483ed0841  and i'm going to keep posting the stuff u dele...   \n159555  ffc2f409658571f1  \"\\n\\nHow come when you download that MP3 it's ...   \n159556  ffc671f2acdd80e1  I'll be on IRC, too, if you have a more specif...   \n159557  ffc7bbb177c3c966  It is my opinion that that happens to be off-t...   \n159558  ffca1e81aefc48ac  Please stop removing content from Wikipedia; i...   \n159559  ffca8d71d71a3fae  Image:Barack-obama-mother.jpg listed for delet...   \n159560  ffcdcb71854f6d8a  \"Editing of article without Consensus & Remova...   \n159561  ffd2e85b07b3c7e4  \"\\nNo he did not, read it again (I would have ...   \n159562  ffd72e9766c09c97  \"\\n Auto guides and the motoring press are not...   \n159563  ffe029a7c79dc7fe  \"\\nplease identify what part of BLP applies be...   \n159564  ffe897e7f7182c90  Catalan independentism is the social movement ...   \n159565  ffe8b9316245be30  The numbers in parentheses are the additional ...   \n159566  ffe987279560d7ff  \":::::And for the second time of asking, when ...   \n159567  ffea4adeee384e90  You should be ashamed of yourself \\n\\nThat is ...   \n159568  ffee36eab5c267c9  Spitzer \\n\\nUmm, theres no actual article for ...   \n159569  fff125370e4aaaf3  And it looks like it was actually you who put ...   \n159570  fff46fc426af1f9a  \"\\nAnd ... I really don't think you understand...   \n\n        toxic  severe_toxic  obscene  threat  insult  identity_hate  \n0           0             0        0       0       0              0  \n1           0             0        0       0       0              0  \n2           0             0        0       0       0              0  \n3           0             0        0       0       0              0  \n4           0             0        0       0       0              0  \n5           0             0        0       0       0              0  \n6           1             1        1       0       1              0  \n7           0             0        0       0       0              0  \n8           0             0        0       0       0              0  \n9           0             0        0       0       0              0  \n10          0             0        0       0       0              0  \n11          0             0        0       0       0              0  \n12          1             0        0       0       0              0  \n13          0             0        0       0       0              0  \n14          0             0        0       0       0              0  \n15          0             0        0       0       0              0  \n16          1             0        0       0       0              0  \n17          0             0        0       0       0              0  \n18          0             0        0       0       0              0  \n19          0             0        0       0       0              0  \n20          0             0        0       0       0              0  \n21          0             0        0       0       0              0  \n22          0             0        0       0       0              0  \n23          0             0        0       0       0              0  \n24          0             0        0       0       0              0  \n25          0             0        0       0       0              0  \n26          0             0        0       0       0              0  \n27          0             0        0       0       0              0  \n28          0             0        0       0       0              0  \n29          0             0        0       0       0              0  \n...       ...           ...      ...     ...     ...            ...  \n159541      1             0        1       0       1              0  \n159542      0             0        0       0       0              0  \n159543      0             0        0       0       0              0  \n159544      0             0        0       0       0              0  \n159545      0             0        0       0       0              0  \n159546      1             0        0       0       1              0  \n159547      0             0        0       0       0              0  \n159548      0             0        0       0       0              0  \n159549      0             0        0       0       0              0  \n159550      0             0        0       0       0              0  \n159551      0             0        0       0       0              0  \n159552      0             0        0       0       0              0  \n159553      0             0        0       0       0              0  \n159554      1             0        1       0       1              0  \n159555      0             0        0       0       0              0  \n159556      0             0        0       0       0              0  \n159557      0             0        0       0       0              0  \n159558      0             0        0       0       0              0  \n159559      0             0        0       0       0              0  \n159560      0             0        0       0       0              0  \n159561      0             0        0       0       0              0  \n159562      0             0        0       0       0              0  \n159563      0             0        0       0       0              0  \n159564      0             0        0       0       0              0  \n159565      0             0        0       0       0              0  \n159566      0             0        0       0       0              0  \n159567      0             0        0       0       0              0  \n159568      0             0        0       0       0              0  \n159569      0             0        0       0       0              0  \n159570      0             0        0       0       0              0  \n\n[159571 rows x 8 columns]\n"
     ]
    }
   ],
   "source": [
    "print(df)\n"
   ]
  },
  {
   "cell_type": "code",
   "execution_count": 5,
   "metadata": {},
   "outputs": [
    {
     "name": "stdout",
     "output_type": "stream",
     "text": [
      "id               object\ncomment_text     object\ntoxic             int64\nsevere_toxic      int64\nobscene           int64\nthreat            int64\ninsult            int64\nidentity_hate     int64\ndtype: object\n"
     ]
    }
   ],
   "source": [
    "print(df.dtypes)\n"
   ]
  },
  {
   "cell_type": "code",
   "execution_count": 6,
   "metadata": {},
   "outputs": [],
   "source": [
    "X_train = df.iloc[:, :2].values\n",
    "Y_train = df.iloc[:, 2:].values\n",
    "\n",
    "X_train = transform.split_comment(X_train)\n",
    "count, vocab = transform.mk_vocab(X_train)\n"
   ]
  },
  {
   "cell_type": "code",
   "execution_count": 7,
   "metadata": {},
   "outputs": [
    {
     "name": "stdout",
     "output_type": "stream",
     "text": [
      "32015\n"
     ]
    }
   ],
   "source": [
    "print(len(vocab))\n"
   ]
  },
  {
   "cell_type": "code",
   "execution_count": 8,
   "metadata": {},
   "outputs": [
    {
     "name": "stdout",
     "output_type": "stream",
     "text": [
      "('0000997932d777bf', array(['Explanation', 'Why', 'the', 'edits', 'made', 'under', 'my',\n       'username', 'Hardcore', 'Metallica', 'Fan', 'were', 'reverted',\n       '?', 'They', 'weren', \"'\", 't', 'vandalisms', ',', 'just',\n       'closure', 'on', 'some', 'GAs', 'after', 'I', 'voted', 'at', 'New',\n       'York', 'Dolls', 'FAC', '.', 'And', 'please', 'don', \"'\", 't',\n       'remove', 'the', 'template', 'from', 'the', 'talk', 'page',\n       'since', 'I', \"'\", 'm', 'retired', 'now', '.', '89', '.', '205',\n       '.', '38', '.', '27'], dtype='<U11'))\n"
     ]
    }
   ],
   "source": [
    "print(X_train[0])\n"
   ]
  },
  {
   "cell_type": "code",
   "execution_count": 9,
   "metadata": {},
   "outputs": [],
   "source": [
    "ident, X = transform.pass_data_to_word_idx(X_train, vocab, count)\n"
   ]
  },
  {
   "cell_type": "code",
   "execution_count": 10,
   "metadata": {},
   "outputs": [
    {
     "name": "stdout",
     "output_type": "stream",
     "text": [
      "[array([ 0,  1,  2,  3,  4,  5,  6,  7,  8,  9, 10, 11, 12, 13, 14, 15, 16,\n       17, 18, 19, 20, 21, 22, 23, 24, 25, 26, 27, 28, 29, 30, 31, 32, 33,\n       34, 35, 36, 16, 17, 37,  2, 38, 39,  2, 40, 41, 42, 26, 16, 43, 44,\n       45, 33, 46, 33, 47, 33, 48, 33, 49])\n array([50, 16, 51, 52, 53, 54, 55, 56, 26, 16, 43, 57, 58, 59, 33, 60, 33,\n       40, 61, 62, 19, 63, 64, 19, 65, 66])\n array([67, 68, 19, 26, 16, 43, 69, 70, 71, 72, 73, 74, 33, 75, 16, 76, 20,\n       77, 54, 78, 79, 80, 81, 82, 83, 84, 85, 72, 86, 87,  3, 88, 89,  6,\n       40, 41, 33, 52, 90, 72, 91, 92, 93,  2, 94, 95,  2, 96, 97, 33])\n ...\n array([22146,    19,  2593,   134,    96,   189,   142,  7601,  8141,\n          33, 30841,  4046,    33])\n array([  34,  145, 1535,  409,  145,  199,  956,  139,  317, 1209,   22,\n          2,  301,   72,  140,    2,  138,  669,  297,   45,   77,   26,\n        408,   28,  145,   33])\n array([  34,   33,   33,   33,   26,   69,   36,   16,   17,  117,  139,\n        627,   33,   26,  476,  542,   84,    6, 2721,  199,  569, 1186,\n       2004,   33,  374, 2007,   89, 1939, 1140,  139,  140,  569, 2822,\n        262, 2004,   19,   88,   89, 7703, 6860,  305,   33])]\n"
     ]
    }
   ],
   "source": [
    "print(X)\n"
   ]
  },
  {
   "cell_type": "heading",
   "metadata": {},
   "level": 2,
   "source": [
    "Training"
   ]
  },
  {
   "cell_type": "code",
   "execution_count": 11,
   "metadata": {},
   "outputs": [],
   "source": [
    "from model.conv_model import ConvModel\n",
    "import torch as th\n",
    "import torch.nn as nn\n",
    "from utils.cuda import use_cuda\n"
   ]
  },
  {
   "cell_type": "code",
   "execution_count": 17,
   "metadata": {},
   "outputs": [
    {
     "name": "stdout",
     "output_type": "stream",
     "text": [
      "torch.Size([1, 6])\n4.928504943847656\n"
     ]
    }
   ],
   "source": [
    "model = ConvModel(len(vocab))\n",
    "loss_fn = nn.BCELoss()\n",
    "\n",
    "if use_cuda():\n",
    "    model.cuda()\n",
    "    loss_fn.cuda()\n",
    "\n",
    "opt = th.optim.SGD(model.parameters(), lr=1e-3)\n",
    "\n",
    "# TODO boucle apprentissage\n",
    "out = model(th.Tensor(X[0]).long().cuda())\n",
    "print(out.size())\n",
    "\n",
    "loss = loss_fn(out, th.Tensor(Y_train[0]).unsqueeze(0).cuda())\n",
    "loss.backward()\n",
    "opt.step()\n",
    "print(loss.item())"
   ]
  },
  {
   "cell_type": "code",
   "execution_count": null,
   "metadata": {},
   "outputs": [],
   "source": []
  }
 ],
 "metadata": {
  "kernelspec": {
   "display_name": "Python 3",
   "language": "python",
   "name": "python3"
  },
  "language_info": {
   "codemirror_mode": {
    "name": "ipython",
    "version": 3
   },
   "file_extension": ".py",
   "mimetype": "text/x-python",
   "name": "python",
   "nbconvert_exporter": "python",
   "pygments_lexer": "ipython3",
   "version": "3.7.1"
  }
 },
 "nbformat": 4,
 "nbformat_minor": 2
}
