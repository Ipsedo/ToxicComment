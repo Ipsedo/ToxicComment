{
 "cells": [
  {
   "cell_type": "code",
   "execution_count": 1,
   "metadata": {},
   "outputs": [],
   "source": [
    "import data.read_data as read\n",
    "import data.transform_data as transform\n",
    "from numpy import concatenate\n"
   ]
  },
  {
   "cell_type": "code",
   "execution_count": 2,
   "metadata": {},
   "outputs": [],
   "source": [
    "train_csv_file_name = \"res/train.csv\"\n",
    "test_csv_file_name = \"res/test.csv\"\n",
    "test_label_csv_file_name = \"res/test_labels.csv\"\n",
    "submission_csv_file_name = \"res/sample_submission.csv\"\n"
   ]
  },
  {
   "cell_type": "code",
   "execution_count": 3,
   "metadata": {},
   "outputs": [],
   "source": [
    "df_train = read.load_train_csv(train_csv_file_name).head(41000)\n"
   ]
  },
  {
   "cell_type": "code",
   "execution_count": 4,
   "metadata": {},
   "outputs": [
    {
     "name": "stdout",
     "output_type": "stream",
     "text": [
      "                     id                                       comment_text  \\\n0      0000997932d777bf  Explanation\\nWhy the edits made under my usern...   \n1      000103f0d9cfb60f  D'aww! He matches this background colour I'm s...   \n2      000113f07ec002fd  Hey man, I'm really not trying to edit war. It...   \n3      0001b41b1c6bb37e  \"\\nMore\\nI can't make any real suggestions on ...   \n4      0001d958c54c6e35  You, sir, are my hero. Any chance you remember...   \n5      00025465d4725e87  \"\\n\\nCongratulations from me as well, use the ...   \n6      0002bcb3da6cb337       COCKSUCKER BEFORE YOU PISS AROUND ON MY WORK   \n7      00031b1e95af7921  Your vandalism to the Matt Shirvington article...   \n8      00037261f536c51d  Sorry if the word 'nonsense' was offensive to ...   \n9      00040093b2687caa  alignment on this subject and which are contra...   \n10     0005300084f90edc  \"\\nFair use rationale for Image:Wonju.jpg\\n\\nT...   \n11     00054a5e18b50dd4  bbq \\n\\nbe a man and lets discuss it-maybe ove...   \n12     0005c987bdfc9d4b  Hey... what is it..\\n@ | talk .\\nWhat is it......   \n13     0006f16e4e9f292e  Before you start throwing accusations and warn...   \n14     00070ef96486d6f9  Oh, and the girl above started her arguments w...   \n15     00078f8ce7eb276d  \"\\n\\nJuelz Santanas Age\\n\\nIn 2002, Juelz Sant...   \n16     0007e25b2121310b  Bye! \\n\\nDon't look, come or think of comming ...   \n17     000897889268bc93   REDIRECT Talk:Voydan Pop Georgiev- Chernodrinski   \n18     0009801bd85e5806  The Mitsurugi point made no sense - why not ar...   \n19     0009eaea3325de8c  Don't mean to bother you \\n\\nI see that you're...   \n20     000b08c464718505  \"\\n\\n Regarding your recent edits \\n\\nOnce aga...   \n21     000bfd0867774845  \"\\nGood to know. About me, yeah, I'm studying ...   \n22     000c0dfd995809fa  \"\\n\\n Snowflakes are NOT always symmetrical! \\...   \n23     000c6a3f0cd3ba8e  \"\\n\\n The Signpost: 24 September 2012 \\n\\n Rea...   \n24     000cfee90f50d471  \"\\n\\nRe-considering 1st paragraph edit?\\nI don...   \n25     000eefc67a2c930f  Radial symmetry \\n\\nSeveral now extinct lineag...   \n26     000f35deef84dc4a  There's no need to apologize. A Wikipedia arti...   \n27     000ffab30195c5e1  Yes, because the mother of the child in the ca...   \n28     0010307a3a50a353  \"\\nOk. But it will take a bit of work but I ca...   \n29     0010833a96e1f886  \"== A barnstar for you! ==\\n\\n  The Real Life ...   \n...                 ...                                                ...   \n40970  6d55e97897ffac27                             Because i killed them!   \n40971  6d5609cb05e3c733  Article name \\n\\n recently moved this article ...   \n40972  6d56b07c749e69fb  Thanks Lament for the restore.  I don't dare t...   \n40973  6d575bb7c7a424c9  \"\\n Your request at Files for upload \\n Hello,...   \n40974  6d575e3a7a820c42  \"\\n Your submission at AfC Shayan Modarres was...   \n40975  6d57be067dea348c  You probably noticed that the stl template can...   \n40976  6d5838b17603a0e9  Induced_gamma_emission:_Hafnium_controversy\\n\\...   \n40977  6d58a805bd630246  WikiProject Films November 2008 Newsletter\\nTh...   \n40978  6d59421cf19779e6  Thank you very much - image has been added to ...   \n40979  6d59909aa7f48bcc  GAR\\nThanks for the heads-up. Looking over the...   \n40980  6d5a1efd7217aa6e  Removed Links\\nMay I ask why you removed the l...   \n40981  6d5a9be006b128a3  This page was being redirected to Haidar Abbas...   \n40982  6d5c74d4b79dfde6  \"\\n  The BLPN thread begins with this from you...   \n40983  6d5d5e2834955dda  \"* This article says that he was the first His...   \n40984  6d5dec45c48dc41b  \"\\n—— '''[[user:Eagle 101|Eagle101]]'''Need he...   \n40985  6d5e7e4ee551694c  Vandalism of Mariah Carey article\\nPlease stop...   \n40986  6d5e9b8edfd4b91f  \"\\nReplied to you on Talk:The_Truth:_Gujarat_2...   \n40987  6d602816357e8e64  In 75 years....article...?????  In 75 years pe...   \n40988  6d603a3046efed28  Zencv, my edit from a day ago that you referen...   \n40989  6d60cced80491ece  \"\\nI've had it, you ignorant fool. If it's cal...   \n40990  6d61d6526a69acb3  They are perfectly civil - they have no hidden...   \n40991  6d62695845ea12ef  The suggestion is to replace this dab page wit...   \n40992  6d62dd9285b068bd  Somebody deleted my factoid that one supertank...   \n40993  6d632ee360b4b88d  Picture of the band \\n\\nWell, Kjoonlee, that's...   \n40994  6d6349752e253a70  Unspecified source for Image:Zeldaor.PNG\\n\\nTh...   \n40995  6d63859d636a6353  \"\\n\\nEarthworms are nice!\\nArticle claims he g...   \n40996  6d638940d3fa44ed  Sherlock, as it states earlier in the article,...   \n40997  6d640c887a761922  Unlocking Herne Hill and the Kent route to the...   \n40998  6d64d4b11528375d  \", 29 March 2009 (UTC)\\n\\n(not so random un-in...   \n40999  6d654a0b483c892c  \"Also, I want to apologize for my extreme beha...   \n\n       toxic  severe_toxic  obscene  threat  insult  identity_hate  \n0          0             0        0       0       0              0  \n1          0             0        0       0       0              0  \n2          0             0        0       0       0              0  \n3          0             0        0       0       0              0  \n4          0             0        0       0       0              0  \n5          0             0        0       0       0              0  \n6          1             1        1       0       1              0  \n7          0             0        0       0       0              0  \n8          0             0        0       0       0              0  \n9          0             0        0       0       0              0  \n10         0             0        0       0       0              0  \n11         0             0        0       0       0              0  \n12         1             0        0       0       0              0  \n13         0             0        0       0       0              0  \n14         0             0        0       0       0              0  \n15         0             0        0       0       0              0  \n16         1             0        0       0       0              0  \n17         0             0        0       0       0              0  \n18         0             0        0       0       0              0  \n19         0             0        0       0       0              0  \n20         0             0        0       0       0              0  \n21         0             0        0       0       0              0  \n22         0             0        0       0       0              0  \n23         0             0        0       0       0              0  \n24         0             0        0       0       0              0  \n25         0             0        0       0       0              0  \n26         0             0        0       0       0              0  \n27         0             0        0       0       0              0  \n28         0             0        0       0       0              0  \n29         0             0        0       0       0              0  \n...      ...           ...      ...     ...     ...            ...  \n40970      1             0        0       0       0              0  \n40971      0             0        0       0       0              0  \n40972      0             0        0       0       0              0  \n40973      0             0        0       0       0              0  \n40974      0             0        0       0       0              0  \n40975      0             0        0       0       0              0  \n40976      0             0        0       0       0              0  \n40977      0             0        0       0       0              0  \n40978      0             0        0       0       0              0  \n40979      0             0        0       0       0              0  \n40980      0             0        0       0       0              0  \n40981      0             0        0       0       0              0  \n40982      0             0        0       0       0              0  \n40983      0             0        0       0       0              0  \n40984      0             0        0       0       0              0  \n40985      0             0        0       0       0              0  \n40986      0             0        0       0       0              0  \n40987      0             0        0       0       0              0  \n40988      0             0        0       0       0              0  \n40989      1             0        0       0       0              0  \n40990      1             0        0       0       1              0  \n40991      0             0        0       0       0              0  \n40992      0             0        0       0       0              0  \n40993      0             0        0       0       0              0  \n40994      0             0        0       0       0              0  \n40995      0             0        0       0       0              0  \n40996      0             0        0       0       0              0  \n40997      0             0        0       0       0              0  \n40998      0             0        0       0       0              0  \n40999      0             0        0       0       0              0  \n\n[41000 rows x 8 columns]\n"
     ]
    }
   ],
   "source": [
    "print(df_train)\n"
   ]
  },
  {
   "cell_type": "code",
   "execution_count": 5,
   "metadata": {},
   "outputs": [
    {
     "name": "stdout",
     "output_type": "stream",
     "text": [
      "id               object\ncomment_text     object\ntoxic             int64\nsevere_toxic      int64\nobscene           int64\nthreat            int64\ninsult            int64\nidentity_hate     int64\ndtype: object\n"
     ]
    }
   ],
   "source": [
    "print(df_train.dtypes)\n"
   ]
  },
  {
   "cell_type": "code",
   "execution_count": 6,
   "metadata": {},
   "outputs": [],
   "source": [
    "limit_train = 40000\n"
   ]
  },
  {
   "cell_type": "code",
   "execution_count": 7,
   "metadata": {},
   "outputs": [],
   "source": [
    "X_train = df_train.iloc[:limit_train, :2].values\n",
    "Y_train = df_train.iloc[:limit_train, 2:].values\n",
    "\n",
    "X_test = df_train.iloc[limit_train:, :2].values\n",
    "Y_test = df_train.iloc[limit_train:, 2:].values\n",
    "\n",
    "X_train = transform.split_comment(X_train)\n",
    "X_test = transform.split_comment(X_test)\n",
    "\n",
    "count, vocab = transform.mk_vocab(X_train + X_test)\n"
   ]
  },
  {
   "cell_type": "code",
   "execution_count": 8,
   "metadata": {},
   "outputs": [
    {
     "name": "stdout",
     "output_type": "stream",
     "text": [
      "12501\n"
     ]
    }
   ],
   "source": [
    "print(len(vocab))\n"
   ]
  },
  {
   "cell_type": "code",
   "execution_count": 9,
   "metadata": {},
   "outputs": [],
   "source": [
    "print(X_train[0])\n"
   ]
  },
  {
   "cell_type": "code",
   "execution_count": 10,
   "metadata": {},
   "outputs": [],
   "source": [
    "ident_train, X_train = transform.pass_data_to_word_idx(X_train, vocab, count)\n",
    "ident_test, X_test = transform.pass_data_to_word_idx(X_test, vocab, count)\n"
   ]
  },
  {
   "cell_type": "code",
   "execution_count": 11,
   "metadata": {},
   "outputs": [
    {
     "name": "stdout",
     "output_type": "stream",
     "text": [
      "1399\n[array([ 1,  2,  3,  4,  5,  6,  7,  8,  9, 10, 11, 12, 13, 14, 15, 16, 17,\n       18, 19, 20, 21, 22, 23, 24, 25, 26, 27, 28, 29, 14, 30,  2, 31, 32,\n        2, 33, 34, 35, 21, 36, 37, 38, 39, 40, 41, 42])\n array([43, 44, 45, 46, 47, 48, 21, 36, 49, 50, 51, 52, 33, 53, 54, 55, 56,\n       57, 58])\n array([59, 60, 21, 36, 61, 62, 63, 64, 65, 66, 67, 68, 16, 69, 46, 70, 71,\n       72, 73, 74, 75, 76, 77, 64, 78, 79,  3, 80, 81,  6, 33, 34, 44, 82,\n       64, 83, 84, 85,  2, 86, 87,  2, 88, 89])\n ...\n array([8863,   76,    2, 6154, 4131,   64,    2, 3383,  156,  110,  102,\n        764,  567,  568,  769,  588, 7462,   76,    2, 4131,   64,    2,\n       3629,  872,   33])\n array([ 2263,  2629,  4652,    58,    62,   112,  7602,  5382, 11352,\n         424,  9669,    71,    64,  4574,   282,    79,   105,  2769,\n        1688,    81,  1209,   208,    71,  6724,    23,  1317,   532,\n           2,    71,   165,  3812,    46,  1688,    81,  1209,   262,\n         911, 10536,  1183,  2305,   104,    84,     2,  1084,    81,\n        2602, 10537,  1057,    81,    46,  1688,    81,  1209,    71,\n        6950,    64,     2,  1855,  1276,    84,  1957,     2,  6528,\n        1102,    81,     2,  1101,    18,     2,  1209,  6269,     2,\n        1855,  1102,   664,     2,    81,    46,  1688,    81,  1209,\n         564,    32,     2,  1585,    71,  4710,  7558,  1209,   114,\n         220,    64,  1398,  2056,  1073,     2,  1073,    81,   105,\n          71,  5829,  1147,   787,  1143,    76,  3507,   110,  1057,\n        5078,    68,  2056,     2,  4336,   661,   862,    69,     2,\n        1084,    81,  1057,    81, 10537,    71,  6950,    64,     2,\n        2995,  1102,    18,     2,   462,  5634,   661,   862,    69,\n           2,  1102,   262,   125,    18,   236,    71,  6950,    64,\n        6269,     2,  1102,   262,    69,    18,    69,  1172,   466,\n        1102,  6319,    98,  2040,    71,  1064,     2,  6177, 10375,\n          23,     2,  4630,    81,     2,    71,   281,    69,   236,\n        1143,   127,    62,  1057,   203,   236,   787,    76,  3507,\n         110,  1057,   238,   686,    81,   105, 11335,  6177,    76,\n        1143,   114,  1467,    79,    19,  6373,    81,  1560,    35,\n           2,  1073,    71,  5829,   105,  1143,  1057,  1979,   105,\n       11355,  1057,  3152,  1398,  2156,   314,   238,  1240,     2,\n        6356,    81,     2,    51,     2,  1122,    32,   135,    35,\n           2,  2669,    81,     2,  1143,   262,     2,  1217,    71,\n        3102,   116,   236,  3761,    46,   211,    19,  4352,    64,\n         428,     2,    81,   389,  1197,    71,    53,   905])\n array([1037,   21,  134,   64,  672,  132,    6, 2120,  374,   23,    2,\n        288,   34,   21,   16, 1510,  135, 9365,  924,   76,   21,   91,\n        102,   61, 9847, 2344,   21,  194,   23, 2662,  392,  105, 2256,\n       9228])]\n"
     ]
    }
   ],
   "source": [
    "max_len = transform.get_max_len_sent(concatenate((X_train, X_test), axis=0))\n",
    "print(max_len)\n",
    "print(concatenate((X_train, X_test), axis=0))\n"
   ]
  },
  {
   "cell_type": "code",
   "execution_count": 12,
   "metadata": {},
   "outputs": [],
   "source": [
    "X_train = transform.pad_sentences(X_train, max_len, vocab[transform.padding])\n",
    "X_test = transform.pad_sentences(X_test, max_len, vocab[transform.padding])\n"
   ]
  },
  {
   "cell_type": "code",
   "execution_count": 13,
   "metadata": {},
   "outputs": [
    {
     "name": "stdout",
     "output_type": "stream",
     "text": [
      "[[  1.   2.   3. ...   0.   0.   0.]\n [ 43.  44.  45. ...   0.   0.   0.]\n [ 59.  60.  21. ...   0.   0.   0.]\n ...\n [174. 175.  64. ...   0.   0.   0.]\n [184.  98.   2. ...   0.   0.   0.]\n [ 18.  46. 220. ...   0.   0.   0.]]\n"
     ]
    }
   ],
   "source": [
    "print(X_train[0:10])\n"
   ]
  },
  {
   "cell_type": "code",
   "execution_count": 14,
   "metadata": {},
   "outputs": [
    {
     "name": "stdout",
     "output_type": "stream",
     "text": [
      "(40000, 1399)\n"
     ]
    }
   ],
   "source": [
    "print(X_train.shape)\n"
   ]
  },
  {
   "cell_type": "code",
   "execution_count": 15,
   "metadata": {},
   "outputs": [
    {
     "name": "stdout",
     "output_type": "stream",
     "text": [
      "[0 0 0 0 0 0]\n(1000, 6)\n"
     ]
    }
   ],
   "source": [
    "print(Y_test[0])\n",
    "print(Y_test.shape)\n"
   ]
  },
  {
   "cell_type": "heading",
   "metadata": {},
   "level": 2,
   "source": [
    "Training"
   ]
  },
  {
   "cell_type": "code",
   "execution_count": 16,
   "metadata": {},
   "outputs": [],
   "source": [
    "from model.conv_model import ConvModel\n",
    "import torch as th\n",
    "import torch.nn as nn\n",
    "from utils.cuda import use_cuda\n"
   ]
  },
  {
   "cell_type": "code",
   "execution_count": 17,
   "metadata": {},
   "outputs": [
    {
     "name": "stdout",
     "output_type": "stream",
     "text": [
      "Epoch 0 : loss = 0.132084\n"
     ]
    },
    {
     "name": "stdout",
     "output_type": "stream",
     "text": [
      "Epoch 1 : loss = 0.095171\n"
     ]
    },
    {
     "name": "stdout",
     "output_type": "stream",
     "text": [
      "Epoch 2 : loss = 0.072656\n"
     ]
    },
    {
     "name": "stdout",
     "output_type": "stream",
     "text": [
      "Epoch 3 : loss = 0.058912\n"
     ]
    },
    {
     "name": "stdout",
     "output_type": "stream",
     "text": [
      "Epoch 4 : loss = 0.052584\n"
     ]
    },
    {
     "name": "stdout",
     "output_type": "stream",
     "text": [
      "Epoch 5 : loss = 0.048456\n"
     ]
    },
    {
     "name": "stdout",
     "output_type": "stream",
     "text": [
      "Epoch 6 : loss = 0.046417\n"
     ]
    },
    {
     "name": "stdout",
     "output_type": "stream",
     "text": [
      "Epoch 7 : loss = 0.043130\n"
     ]
    },
    {
     "name": "stdout",
     "output_type": "stream",
     "text": [
      "Epoch 8 : loss = 0.040100\n"
     ]
    },
    {
     "name": "stdout",
     "output_type": "stream",
     "text": [
      "Epoch 9 : loss = 0.040141\n"
     ]
    }
   ],
   "source": [
    "model = ConvModel(len(vocab))\n",
    "loss_fn = nn.BCELoss()\n",
    "\n",
    "if use_cuda():\n",
    "    model.cuda()\n",
    "    loss_fn.cuda()\n",
    "\n",
    "opt = th.optim.Adagrad(model.parameters(), lr=1e-2)\n",
    "\n",
    "nb_epoch = 10\n",
    "\n",
    "batch_size = 32\n",
    "nb_batch = int(X_train.shape[0] / batch_size)\n",
    "\n",
    "for e in range(nb_epoch):\n",
    "    model.train()\n",
    "    \n",
    "    if use_cuda():\n",
    "        model.cuda()\n",
    "        \n",
    "    sum_loss = 0\n",
    "    nb_sent = 0\n",
    "    \n",
    "    for i in range(nb_batch):\n",
    "        i_min = batch_size * i\n",
    "        i_max = batch_size * (i + 1) if batch_size * (i + 1) < X_train.shape[0] else X_train.shape[0]\n",
    "                \n",
    "        x = th.Tensor(X_train[i_min:i_max]).long()\n",
    "        y = th.Tensor(Y_train[i_min:i_max])\n",
    "        if use_cuda():\n",
    "            x = x.cuda()\n",
    "            y = y.cuda()\n",
    "        out = model(x)\n",
    "        loss = loss_fn(out, y)\n",
    "        loss.backward()\n",
    "        opt.step()\n",
    "        \n",
    "        sum_loss += loss.item()\n",
    "        nb_sent += 1\n",
    "    \n",
    "    sum_loss /= nb_sent\n",
    "    \n",
    "    print(\"Epoch %d : loss = %f\" % (e, sum_loss))\n",
    "    \n",
    "    model.eval()\n",
    "    \n",
    "    model.cpu()\n",
    "    \n",
    "    x_test = th.Tensor(X_test).long()\n",
    "    y_test = th.Tensor(Y_test)\n",
    "    res = th.zeros(y_test.size())\n",
    "    \n",
    "    batch_size_test = 32\n",
    "    nb_batch_test = int(x_test.size(0) / batch_size_test)\n",
    "    \n",
    "    for i in range(nb_batch_test):\n",
    "        i_min = batch_size_test * i\n",
    "        i_max = batch_size_test * (i + 1) if batch_size_test * (i + 1) < x_test.size(0) else x_test.size(0)\n",
    "        \n",
    "        x = x_test[i_min:i_max]\n",
    "        y = y_test[i_min:i_max]\n",
    "        \n",
    "        out_test = model(x)\n",
    "        diff = th.abs(y - out_test)\n",
    "        res[i_min:i_max] = diff\n",
    "    \n",
    "    diff = res.mean(dim=0)\n",
    "    differences = {\n",
    "        \"toxic\": diff[0].item(),\n",
    "        \"severe_toxic\": diff[1].item(),\n",
    "        \"obscene\": diff[2].item(),\n",
    "        \"threat\": diff[3].item(),\n",
    "        \"insult\": diff[4].item(),\n",
    "        \"identity_hate\": diff[5].item()}\n",
    "    \n",
    "    print(differences)\n"
   ]
  },
  {
   "cell_type": "heading",
   "metadata": {},
   "level": 2,
   "source": [
    "Save model, loss function, optimizer, vocabulary and word count"
   ]
  },
  {
   "cell_type": "code",
   "execution_count": 18,
   "metadata": {},
   "outputs": [],
   "source": [
    "import pickle\n"
   ]
  },
  {
   "cell_type": "code",
   "execution_count": 21,
   "metadata": {},
   "outputs": [],
   "source": [
    "saved_model = model.cpu()\n",
    "saved_loss = loss_fn.cpu()\n"
   ]
  },
  {
   "cell_type": "code",
   "execution_count": 22,
   "metadata": {},
   "outputs": [],
   "source": [
    "pickle.dump(model, open(\"saved/model.p\", \"wb\"))\n",
    "pickle.dump(loss_fn, open(\"saved/loss_fn.p\", \"wb\"))\n",
    "pickle.dump(opt, open(\"saved/opt.p\", \"wb\"))\n",
    "pickle.dump(vocab, open(\"saved/vocab.p\", \"wb\"))\n",
    "pickle.dump(count, open(\"saved/count.p\", \"wb\"))\n"
   ]
  },
  {
   "cell_type": "code",
   "execution_count": null,
   "metadata": {},
   "outputs": [],
   "source": []
  }
 ],
 "metadata": {
  "kernelspec": {
   "display_name": "Python 3",
   "language": "python",
   "name": "python3"
  },
  "language_info": {
   "codemirror_mode": {
    "name": "ipython",
    "version": 3
   },
   "file_extension": ".py",
   "mimetype": "text/x-python",
   "name": "python",
   "nbconvert_exporter": "python",
   "pygments_lexer": "ipython3",
   "version": "3.7.1"
  }
 },
 "nbformat": 4,
 "nbformat_minor": 2
}
