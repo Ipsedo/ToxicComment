{
 "cells": [
  {
   "cell_type": "code",
   "execution_count": 1,
   "metadata": {},
   "outputs": [],
   "source": [
    "import pickle\n",
    "import data.transform_data as transform\n",
    "import torch as th\n"
   ]
  },
  {
   "cell_type": "code",
   "execution_count": 2,
   "metadata": {},
   "outputs": [],
   "source": [
    "model = pickle.load(open(\"saved/model.p\", \"rb\"))\n",
    "vocab = pickle.load(open(\"saved/vocab.p\", \"rb\"))\n",
    "count = pickle.load(open(\"saved/count.p\", \"rb\"))\n"
   ]
  },
  {
   "cell_type": "code",
   "execution_count": 3,
   "metadata": {},
   "outputs": [],
   "source": [
    "stop_loop = \"<stop>\"\n"
   ]
  },
  {
   "cell_type": "code",
   "execution_count": 4,
   "metadata": {},
   "outputs": [
    {
     "name": "stdout",
     "output_type": "stream",
     "text": [
      "Enter a sentence : bad\n",
      "{'toxic': 0.209292933344841, 'severe_toxic': 7.649763574590907e-05, 'obscene': 0.10250549018383026, 'threat': 0.0008616876439191401, 'insult': 0.038222264498472214, 'identity_hate': 0.013235371559858322}\n",
      "\n",
      "Enter a sentence : good\n",
      "{'toxic': 0.09971501678228378, 'severe_toxic': 2.030247196671553e-05, 'obscene': 0.03228529170155525, 'threat': 0.00031933264108374715, 'insult': 0.01186206005513668, 'identity_hate': 0.005899569485336542}\n",
      "\n",
      "Enter a sentence : love\n",
      "{'toxic': 0.209292933344841, 'severe_toxic': 7.649763574590907e-05, 'obscene': 0.10250549018383026, 'threat': 0.0008616876439191401, 'insult': 0.038222264498472214, 'identity_hate': 0.013235371559858322}\n",
      "\n",
      "Enter a sentence : i hate you\n",
      "{'toxic': 0.9341042041778564, 'severe_toxic': 0.0028013240080326796, 'obscene': 0.24812276661396027, 'threat': 0.013574083335697651, 'insult': 0.2559795677661896, 'identity_hate': 0.03431291878223419}\n",
      "\n",
      "Enter a sentence : samuel is the best\n",
      "{'toxic': 0.0291496142745018, 'severe_toxic': 1.4389667057912447e-06, 'obscene': 0.004664881620556116, 'threat': 4.184365025139414e-05, 'insult': 0.0015796248335391283, 'identity_hate': 0.0008881991961970925}\n",
      "\n",
      "Enter a sentence : hello kimmy jungy uno\n",
      "{'toxic': 0.209292933344841, 'severe_toxic': 7.649763574590907e-05, 'obscene': 0.10250549018383026, 'threat': 0.0008616876439191401, 'insult': 0.038222264498472214, 'identity_hate': 0.013235371559858322}\n",
      "\n",
      "Enter a sentence : I can't imagine you're doing this\n",
      "{'toxic': 7.670432751183398e-07, 'severe_toxic': 2.387904544237651e-12, 'obscene': 3.783992724493146e-05, 'threat': 7.714711508510774e-11, 'insult': 5.2709676623408086e-08, 'identity_hate': 6.590644829884695e-07}\n",
      "\n",
      "Enter a sentence : <stop>\n",
      "{'toxic': 0.209292933344841, 'severe_toxic': 7.649763574590907e-05, 'obscene': 0.10250549018383026, 'threat': 0.0008616876439191401, 'insult': 0.038222264498472214, 'identity_hate': 0.013235371559858322}\n",
      "\n"
     ]
    }
   ],
   "source": [
    "user_input = \"\"\n",
    "model.eval()\n",
    "while stop_loop != user_input:\n",
    "    user_input = input(\"Enter a sentence : \")\n",
    "    data = [(\"0x0000\", user_input)]\n",
    "    data = transform.split_comment(data)\n",
    "    _, sent = transform.pass_data_to_word_idx(data, vocab, count)\n",
    "    sent = transform.pad_sentences(sent, 1400, vocab[transform.padding])\n",
    "    out = model(th.Tensor(sent).long())[0]\n",
    "    differences = {\n",
    "        \"toxic\": out[0].item(),\n",
    "        \"severe_toxic\": out[1].item(),\n",
    "        \"obscene\": out[2].item(),\n",
    "        \"threat\": out[3].item(),\n",
    "        \"insult\": out[4].item(),\n",
    "        \"identity_hate\": out[5].item()}\n",
    "    print(differences)\n",
    "    print()\n"
   ]
  },
  {
   "cell_type": "code",
   "execution_count": null,
   "metadata": {},
   "outputs": [],
   "source": []
  }
 ],
 "metadata": {
  "kernelspec": {
   "display_name": "Python 3",
   "language": "python",
   "name": "python3"
  },
  "language_info": {
   "codemirror_mode": {
    "name": "ipython",
    "version": 3
   },
   "file_extension": ".py",
   "mimetype": "text/x-python",
   "name": "python",
   "nbconvert_exporter": "python",
   "pygments_lexer": "ipython3",
   "version": "3.6.7"
  }
 },
 "nbformat": 4,
 "nbformat_minor": 1
}
