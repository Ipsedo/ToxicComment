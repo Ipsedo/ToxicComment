{
 "cells": [
  {
   "cell_type": "code",
   "execution_count": 1,
   "metadata": {},
   "outputs": [],
   "source": [
    "import pickle\n",
    "import data.transform_data as transform\n",
    "import torch as th\n"
   ]
  },
  {
   "cell_type": "code",
   "execution_count": 3,
   "metadata": {},
   "outputs": [],
   "source": [
    "model = pickle.load(open(\"saved/model_100k_09h_36m_59s_13_02_2019.p\", \"rb\"))\n",
    "vocab = pickle.load(open(\"saved/vocab_100k_09h_36m_59s_13_02_2019.p\", \"rb\"))\n",
    "count = pickle.load(open(\"saved/count_100k_09h_36m_59s_13_02_2019.p\", \"rb\"))\n"
   ]
  },
  {
   "cell_type": "code",
   "execution_count": 4,
   "metadata": {},
   "outputs": [],
   "source": [
    "stop_loop = \"<stop>\"\n"
   ]
  },
  {
   "cell_type": "code",
   "execution_count": null,
   "metadata": {
    "scrolled": true
   },
   "outputs": [
    {
     "name": "stdout",
     "output_type": "stream",
     "text": [
      "Enter a sentence : you are a fat asshole who thinks only with his cock\n",
      "{'toxic': 0.9895277619361877, 'severe_toxic': 0.2304369956254959, 'obscene': 0.9555309414863586, 'threat': 0.04720529913902283, 'insult': 0.9344436526298523, 'identity_hate': 0.1873599737882614}\n",
      "\n",
      "Enter a sentence : fat niggar you smell like a gorilla, just go back in your country. I will kill you if I see you again dumbass\n",
      "{'toxic': 0.9886748790740967, 'severe_toxic': 0.04459461197257042, 'obscene': 0.7741242051124573, 'threat': 0.009353680536150932, 'insult': 0.8894148468971252, 'identity_hate': 0.04830707237124443}\n",
      "\n",
      "Enter a sentence : fat asshole you smells like my trash, go back to your shitty home with your shitty family. All people who have you as friend are just the most stupid in the world\n",
      "{'toxic': 0.9985479712486267, 'severe_toxic': 0.2172956019639969, 'obscene': 0.9822219014167786, 'threat': 0.03290354833006859, 'insult': 0.9869453310966492, 'identity_hate': 0.18818402290344238}\n",
      "\n",
      "Enter a sentence : Go fuck yourself son of a bitch !!!!!!!!!\n",
      "{'toxic': 0.9993835687637329, 'severe_toxic': 0.33492007851600647, 'obscene': 0.9854732155799866, 'threat': 0.04023696854710579, 'insult': 0.9928590059280396, 'identity_hate': 0.2838074564933777}\n",
      "\n",
      "Enter a sentence : If you continue to do this stupid thing, I will just kill you and throw your dead body to the lion\n",
      "{'toxic': 0.8755128383636475, 'severe_toxic': 0.0016216827789321542, 'obscene': 0.21802400052547455, 'threat': 0.0005508108297362924, 'insult': 0.3405684530735016, 'identity_hate': 0.0027758448850363493}\n",
      "\n",
      "Enter a sentence : son of bitch son of bitch son of bitch son of bitch\n",
      "{'toxic': 0.9986346364021301, 'severe_toxic': 0.04594868794083595, 'obscene': 0.9409065246582031, 'threat': 0.004561666399240494, 'insult': 0.9789912700653076, 'identity_hate': 0.04649623855948448}\n",
      "\n",
      "Enter a sentence : son of bitch\n",
      "{'toxic': 0.9995290040969849, 'severe_toxic': 0.9503799080848694, 'obscene': 0.9986997842788696, 'threat': 0.5929958820343018, 'insult': 0.9974521994590759, 'identity_hate': 0.9260780811309814}\n",
      "\n"
     ]
    }
   ],
   "source": [
    "user_input = \"\"\n",
    "model.eval()\n",
    "while stop_loop != user_input:\n",
    "    user_input = input(\"Enter a sentence : \")\n",
    "    data = [(\"0x0000\", user_input)]\n",
    "    data = transform.split_comment(data)\n",
    "    _, sent = transform.pass_data_to_word_idx(data, vocab, count)\n",
    "    sent = transform.pad_sentences(sent, 1400, vocab[transform.padding])\n",
    "    out = model(th.Tensor(sent).long())[0]\n",
    "    differences = {\n",
    "        \"toxic\": out[0].item(),\n",
    "        \"severe_toxic\": out[1].item(),\n",
    "        \"obscene\": out[2].item(),\n",
    "        \"threat\": out[3].item(),\n",
    "        \"insult\": out[4].item(),\n",
    "        \"identity_hate\": out[5].item()}\n",
    "    print(differences)\n",
    "    print()\n"
   ]
  },
  {
   "cell_type": "code",
   "execution_count": null,
   "metadata": {},
   "outputs": [],
   "source": [
    "\n"
   ]
  }
 ],
 "metadata": {
  "kernelspec": {
   "display_name": "Python 3",
   "language": "python",
   "name": "python3"
  },
  "language_info": {
   "codemirror_mode": {
    "name": "ipython",
    "version": 3
   },
   "file_extension": ".py",
   "mimetype": "text/x-python",
   "name": "python",
   "nbconvert_exporter": "python",
   "pygments_lexer": "ipython3",
   "version": "3.6.7"
  }
 },
 "nbformat": 4,
 "nbformat_minor": 1
}
