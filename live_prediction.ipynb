{
 "cells": [
  {
   "cell_type": "code",
   "execution_count": 1,
   "metadata": {},
   "outputs": [],
   "source": [
    "import pickle\n",
    "import data.transform_data as transform\n",
    "import torch as th\n"
   ]
  },
  {
   "cell_type": "code",
   "execution_count": 3,
   "metadata": {},
   "outputs": [],
   "source": [
    "model = pickle.load(open(\"saved/conv_2/model_100k_09h_36m_59s_13_02_2019.p\", \"rb\"))\n",
    "vocab = pickle.load(open(\"saved/conv_2/vocab_100k_09h_36m_59s_13_02_2019.p\", \"rb\"))\n",
    "count = pickle.load(open(\"saved/conv_2/count_100k_09h_36m_59s_13_02_2019.p\", \"rb\"))\n"
   ]
  },
  {
   "cell_type": "code",
   "execution_count": 4,
   "metadata": {},
   "outputs": [],
   "source": [
    "stop_loop = \"<stop>\"\n"
   ]
  },
  {
   "cell_type": "code",
   "execution_count": null,
   "metadata": {
    "scrolled": true
   },
   "outputs": [
    {
     "name": "stdout",
     "output_type": "stream",
     "text": [
     ]
    }
   ],
   "source": [
    "user_input = \"\"\n",
    "model.eval()\n",
    "while stop_loop != user_input:\n",
    "    user_input = input(\"Enter a sentence : \")\n",
    "    data = [(\"0x0000\", user_input)]\n",
    "    data = transform.split_comment(data)\n",
    "    _, sent = transform.pass_data_to_word_idx(data, vocab, count)\n",
    "    sent = transform.pad_sentences(sent, 1400, vocab[transform.padding])\n",
    "    out = model(th.Tensor(sent).long())[0]\n",
    "    differences = {\n",
    "        \"toxic\": out[0].item(),\n",
    "        \"severe_toxic\": out[1].item(),\n",
    "        \"obscene\": out[2].item(),\n",
    "        \"threat\": out[3].item(),\n",
    "        \"insult\": out[4].item(),\n",
    "        \"identity_hate\": out[5].item()}\n",
    "    print(differences)\n",
    "    print()\n"
   ]
  },
  {
   "cell_type": "code",
   "execution_count": null,
   "metadata": {},
   "outputs": [],
   "source": [
    "\n"
   ]
  }
 ],
 "metadata": {
  "kernelspec": {
   "display_name": "Python 3",
   "language": "python",
   "name": "python3"
  },
  "language_info": {
   "codemirror_mode": {
    "name": "ipython",
    "version": 3
   },
   "file_extension": ".py",
   "mimetype": "text/x-python",
   "name": "python",
   "nbconvert_exporter": "python",
   "pygments_lexer": "ipython3",
   "version": "3.6.7"
  }
 },
 "nbformat": 4,
 "nbformat_minor": 1
}
